{
 "cells": [
  {
   "cell_type": "code",
   "execution_count": 1,
   "metadata": {},
   "outputs": [],
   "source": [
    "from numpy import *"
   ]
  },
  {
   "cell_type": "code",
   "execution_count": 2,
   "metadata": {},
   "outputs": [
    {
     "data": {
      "text/plain": [
       "array([[0.16027246, 0.184369  , 0.67404156, 0.63649859],\n",
       "       [0.50996006, 0.86722767, 0.68620119, 0.0549657 ],\n",
       "       [0.28190614, 0.15639838, 0.86645693, 0.28485381],\n",
       "       [0.15092321, 0.31297737, 0.24476966, 0.69032506]])"
      ]
     },
     "execution_count": 2,
     "metadata": {},
     "output_type": "execute_result"
    }
   ],
   "source": [
    "random.rand(4, 4)"
   ]
  },
  {
   "cell_type": "code",
   "execution_count": 3,
   "metadata": {},
   "outputs": [
    {
     "data": {
      "text/plain": [
       "matrix([[0.60164953, 0.13315793, 0.39002833, 0.1748892 ],\n",
       "        [0.65958776, 0.13984065, 0.88260583, 0.55587278],\n",
       "        [0.5302873 , 0.40463751, 0.21216221, 0.55517711],\n",
       "        [0.09309337, 0.80674379, 0.43412994, 0.9306145 ]])"
      ]
     },
     "execution_count": 3,
     "metadata": {},
     "output_type": "execute_result"
    }
   ],
   "source": [
    "randMat = mat(random.rand(4, 4))\n",
    "randMat"
   ]
  },
  {
   "cell_type": "code",
   "execution_count": 5,
   "metadata": {},
   "outputs": [
    {
     "data": {
      "text/plain": [
       "matrix([[ 0.95079942, -0.36524845,  1.40113459, -0.79638855],\n",
       "        [ 4.83233191, -2.59044642, -2.65033393,  2.22029716],\n",
       "        [ 1.73048034,  0.5367659 , -2.81213938,  1.03181237],\n",
       "        [-5.09149619,  2.03177859,  3.46925388, -1.25187506]])"
      ]
     },
     "execution_count": 5,
     "metadata": {},
     "output_type": "execute_result"
    }
   ],
   "source": [
    "invRandMat = randMat.I\n",
    "invRandMat"
   ]
  },
  {
   "cell_type": "code",
   "execution_count": 7,
   "metadata": {},
   "outputs": [
    {
     "data": {
      "text/plain": [
       "matrix([[ 1.00000000e+00, -1.29633538e-16, -1.19439912e-16,\n",
       "         -1.24930473e-16],\n",
       "        [ 8.95716327e-17,  1.00000000e+00,  2.40318934e-16,\n",
       "         -1.54449166e-16],\n",
       "        [ 3.28569549e-16, -2.46239008e-16,  1.00000000e+00,\n",
       "         -2.38963870e-16],\n",
       "        [ 2.76370700e-16, -4.37609121e-16, -1.62088241e-16,\n",
       "          1.00000000e+00]])"
      ]
     },
     "execution_count": 7,
     "metadata": {},
     "output_type": "execute_result"
    }
   ],
   "source": [
    "myEye = randMat * invRandMat\n",
    "myEye"
   ]
  },
  {
   "cell_type": "code",
   "execution_count": 8,
   "metadata": {},
   "outputs": [
    {
     "data": {
      "text/plain": [
       "matrix([[ 4.44089210e-16, -1.29633538e-16, -1.19439912e-16,\n",
       "         -1.24930473e-16],\n",
       "        [ 8.95716327e-17,  0.00000000e+00,  2.40318934e-16,\n",
       "         -1.54449166e-16],\n",
       "        [ 3.28569549e-16, -2.46239008e-16, -3.33066907e-16,\n",
       "         -2.38963870e-16],\n",
       "        [ 2.76370700e-16, -4.37609121e-16, -1.62088241e-16,\n",
       "         -1.11022302e-16]])"
      ]
     },
     "execution_count": 8,
     "metadata": {},
     "output_type": "execute_result"
    }
   ],
   "source": [
    "myEye - eye(4)"
   ]
  },
  {
   "cell_type": "code",
   "execution_count": null,
   "metadata": {},
   "outputs": [],
   "source": []
  }
 ],
 "metadata": {
  "kernelspec": {
   "display_name": "venv",
   "language": "python",
   "name": "python3"
  },
  "language_info": {
   "codemirror_mode": {
    "name": "ipython",
    "version": 3
   },
   "file_extension": ".py",
   "mimetype": "text/x-python",
   "name": "python",
   "nbconvert_exporter": "python",
   "pygments_lexer": "ipython3",
   "version": "3.10.12"
  }
 },
 "nbformat": 4,
 "nbformat_minor": 2
}
