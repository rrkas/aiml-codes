{
 "cells": [
  {
   "cell_type": "code",
   "execution_count": 1,
   "metadata": {
    "executionInfo": {
     "elapsed": 3761,
     "status": "ok",
     "timestamp": 1717772190598,
     "user": {
      "displayName": "Rohnak Agarwal",
      "userId": "08631121490289882797"
     },
     "user_tz": -330
    },
    "id": "a2RsGmcgDgzr"
   },
   "outputs": [],
   "source": [
    "import torch"
   ]
  },
  {
   "cell_type": "markdown",
   "metadata": {
    "id": "mm0u6RlTUfN_"
   },
   "source": [
    "## A Simple Function"
   ]
  },
  {
   "cell_type": "code",
   "execution_count": 2,
   "metadata": {
    "colab": {
     "base_uri": "https://localhost:8080/"
    },
    "executionInfo": {
     "elapsed": 3,
     "status": "ok",
     "timestamp": 1717772200553,
     "user": {
      "displayName": "Rohnak Agarwal",
      "userId": "08631121490289882797"
     },
     "user_tz": -330
    },
    "id": "juz3dCkwM3D1",
    "outputId": "93a179fd-23a0-4754-cb3d-b99be66d51f1"
   },
   "outputs": [
    {
     "data": {
      "text/plain": [
       "tensor([0., 1., 2., 3.])"
      ]
     },
     "execution_count": 2,
     "metadata": {},
     "output_type": "execute_result"
    }
   ],
   "source": [
    "x = torch.arange(4.0)\n",
    "x"
   ]
  },
  {
   "cell_type": "code",
   "execution_count": 3,
   "metadata": {
    "colab": {
     "base_uri": "https://localhost:8080/"
    },
    "executionInfo": {
     "elapsed": 3,
     "status": "ok",
     "timestamp": 1717772242111,
     "user": {
      "displayName": "Rohnak Agarwal",
      "userId": "08631121490289882797"
     },
     "user_tz": -330
    },
    "id": "2gyjFq7HM6UZ",
    "outputId": "35e4a60f-410a-43e1-b5f5-f9d5be798b8f"
   },
   "outputs": [
    {
     "name": "stdout",
     "output_type": "stream",
     "text": [
      "None\n"
     ]
    }
   ],
   "source": [
    "# Can also create x = torch.arange(4.0, requires_grad=True)\n",
    "x.requires_grad_(True)\n",
    "# The gradient is None by default\n",
    "print(x.grad)"
   ]
  },
  {
   "cell_type": "code",
   "execution_count": 4,
   "metadata": {
    "colab": {
     "base_uri": "https://localhost:8080/"
    },
    "executionInfo": {
     "elapsed": 3,
     "status": "ok",
     "timestamp": 1717772259249,
     "user": {
      "displayName": "Rohnak Agarwal",
      "userId": "08631121490289882797"
     },
     "user_tz": -330
    },
    "id": "hRmLH84mM-hS",
    "outputId": "c07d0a44-0871-4f27-8496-47b210a103c5"
   },
   "outputs": [
    {
     "data": {
      "text/plain": [
       "tensor(28., grad_fn=<MulBackward0>)"
      ]
     },
     "execution_count": 4,
     "metadata": {},
     "output_type": "execute_result"
    }
   ],
   "source": [
    "y = 2 * torch.dot(x, x)\n",
    "y"
   ]
  },
  {
   "cell_type": "code",
   "execution_count": 5,
   "metadata": {
    "colab": {
     "base_uri": "https://localhost:8080/"
    },
    "executionInfo": {
     "elapsed": 3,
     "status": "ok",
     "timestamp": 1717773606526,
     "user": {
      "displayName": "Rohnak Agarwal",
      "userId": "08631121490289882797"
     },
     "user_tz": -330
    },
    "id": "Z6oPR-FNNIVw",
    "outputId": "bb262895-bff1-4df8-fa36-23031e2dfa5e"
   },
   "outputs": [
    {
     "data": {
      "text/plain": [
       "tensor([ 0.,  4.,  8., 12.])"
      ]
     },
     "execution_count": 5,
     "metadata": {},
     "output_type": "execute_result"
    }
   ],
   "source": [
    "\"\"\"\n",
    "We can now take the gradient of y with respect to x by calling its backward\n",
    "method. Next, we can access the gradient via x’s grad attribute.\n",
    "\"\"\"\n",
    "\n",
    "y.backward()\n",
    "x.grad"
   ]
  },
  {
   "cell_type": "code",
   "execution_count": 6,
   "metadata": {
    "colab": {
     "base_uri": "https://localhost:8080/"
    },
    "executionInfo": {
     "elapsed": 4,
     "status": "ok",
     "timestamp": 1717773637465,
     "user": {
      "displayName": "Rohnak Agarwal",
      "userId": "08631121490289882797"
     },
     "user_tz": -330
    },
    "id": "OTmzH_C1SRj-",
    "outputId": "45163a7b-f181-47a1-acac-8bf3799fd285"
   },
   "outputs": [
    {
     "data": {
      "text/plain": [
       "tensor([True, True, True, True])"
      ]
     },
     "execution_count": 6,
     "metadata": {},
     "output_type": "execute_result"
    }
   ],
   "source": [
    "x.grad == 4 * x"
   ]
  },
  {
   "cell_type": "code",
   "execution_count": 7,
   "metadata": {
    "colab": {
     "base_uri": "https://localhost:8080/"
    },
    "executionInfo": {
     "elapsed": 554,
     "status": "ok",
     "timestamp": 1717774148548,
     "user": {
      "displayName": "Rohnak Agarwal",
      "userId": "08631121490289882797"
     },
     "user_tz": -330
    },
    "id": "YfH0R8BZSZQE",
    "outputId": "711473e8-3329-497e-cdf9-ac5ec01ea417"
   },
   "outputs": [
    {
     "data": {
      "text/plain": [
       "tensor([1., 1., 1., 1.])"
      ]
     },
     "execution_count": 7,
     "metadata": {},
     "output_type": "execute_result"
    }
   ],
   "source": [
    "\"\"\"\n",
    "Note that PyTorch does not automatically reset the gradient buffer when we\n",
    "record a new gradient. Instead, the new gradient is added to the\n",
    "already-stored gradient. This behavior comes in handy when we want to\n",
    "optimize the sum of multiple objective functions. To reset the gradient\n",
    "buffer, we can call x.grad.zero().\n",
    "\"\"\"\n",
    "\n",
    "x.grad.zero_()  # Reset the gradient\n",
    "y = x.sum()\n",
    "y.backward()\n",
    "x.grad"
   ]
  },
  {
   "cell_type": "markdown",
   "metadata": {
    "id": "XE69QIvBUmJd"
   },
   "source": [
    "## Backward for Non-Scalar Variables"
   ]
  },
  {
   "cell_type": "code",
   "execution_count": 8,
   "metadata": {
    "colab": {
     "base_uri": "https://localhost:8080/"
    },
    "executionInfo": {
     "elapsed": 1318,
     "status": "ok",
     "timestamp": 1717774291517,
     "user": {
      "displayName": "Rohnak Agarwal",
      "userId": "08631121490289882797"
     },
     "user_tz": -330
    },
    "id": "VejvME4uT5F5",
    "outputId": "c963d6ec-bfcc-458a-80a6-cbb3a3a1037b"
   },
   "outputs": [
    {
     "data": {
      "text/plain": [
       "tensor([0., 2., 4., 6.])"
      ]
     },
     "execution_count": 8,
     "metadata": {},
     "output_type": "execute_result"
    }
   ],
   "source": [
    "x.grad.zero_()\n",
    "y = x * x\n",
    "y.backward(gradient=torch.ones(len(y)))  # Faster: y.sum().backward()\n",
    "x.grad"
   ]
  },
  {
   "cell_type": "markdown",
   "metadata": {
    "id": "hQ_80L76U_31"
   },
   "source": [
    "## Detaching Computation"
   ]
  },
  {
   "cell_type": "code",
   "execution_count": 9,
   "metadata": {
    "colab": {
     "base_uri": "https://localhost:8080/"
    },
    "executionInfo": {
     "elapsed": 3,
     "status": "ok",
     "timestamp": 1717774953381,
     "user": {
      "displayName": "Rohnak Agarwal",
      "userId": "08631121490289882797"
     },
     "user_tz": -330
    },
    "id": "gfdGk3xQU4hV",
    "outputId": "70a76ff0-7c5b-4421-d446-29cbe90052a5"
   },
   "outputs": [
    {
     "data": {
      "text/plain": [
       "tensor([True, True, True, True])"
      ]
     },
     "execution_count": 9,
     "metadata": {},
     "output_type": "execute_result"
    }
   ],
   "source": [
    "x.grad.zero_()  # Reset the gradient of x to zero\n",
    "y = x * x  # Compute y = x * x\n",
    "u = y.detach()  # Detach y to create u which has no gradient history\n",
    "z = u * x  # Compute z = u * x\n",
    "z.sum().backward()  # Perform backpropagation to compute the gradient of z with respect to x\n",
    "x.grad == u  # Check if the gradient of x is equal to u"
   ]
  },
  {
   "cell_type": "code",
   "execution_count": 10,
   "metadata": {
    "colab": {
     "base_uri": "https://localhost:8080/"
    },
    "executionInfo": {
     "elapsed": 5,
     "status": "ok",
     "timestamp": 1717775066343,
     "user": {
      "displayName": "Rohnak Agarwal",
      "userId": "08631121490289882797"
     },
     "user_tz": -330
    },
    "id": "kOXnkOeKVKxW",
    "outputId": "39fd73d7-13fd-4fee-b8e3-da3f0e6caa50"
   },
   "outputs": [
    {
     "data": {
      "text/plain": [
       "tensor([True, True, True, True])"
      ]
     },
     "execution_count": 10,
     "metadata": {},
     "output_type": "execute_result"
    }
   ],
   "source": [
    "\"\"\"\n",
    "Note that while this procedure detaches y’s ancestors from the graph leading\n",
    "to z, the computational graph leading to y persists and thus we can\n",
    "calculate the gradient of y with respect to x.\n",
    "\"\"\"\n",
    "\n",
    "x.grad.zero_()\n",
    "y.sum().backward()\n",
    "x.grad == 2 * x"
   ]
  },
  {
   "cell_type": "markdown",
   "metadata": {
    "id": "dol4NqbNYGLi"
   },
   "source": [
    "## Gradients and Python Control Flow"
   ]
  },
  {
   "cell_type": "code",
   "execution_count": 11,
   "metadata": {
    "executionInfo": {
     "elapsed": 2,
     "status": "ok",
     "timestamp": 1717776149415,
     "user": {
      "displayName": "Rohnak Agarwal",
      "userId": "08631121490289882797"
     },
     "user_tz": -330
    },
    "id": "ADrIzOaRb5IQ"
   },
   "outputs": [],
   "source": [
    "def f(a):\n",
    "    b = a * 2\n",
    "    while b.norm() < 1000:\n",
    "        b = b * 2\n",
    "    if b.sum() > 0:\n",
    "        c = b\n",
    "    else:\n",
    "        c = 100 * b\n",
    "    return c"
   ]
  },
  {
   "cell_type": "code",
   "execution_count": 12,
   "metadata": {
    "executionInfo": {
     "elapsed": 2,
     "status": "ok",
     "timestamp": 1717776174887,
     "user": {
      "displayName": "Rohnak Agarwal",
      "userId": "08631121490289882797"
     },
     "user_tz": -330
    },
    "id": "8SNMNzioX2EG"
   },
   "outputs": [],
   "source": [
    "a = torch.randn(size=(), requires_grad=True)\n",
    "d = f(a)\n",
    "d.backward()"
   ]
  },
  {
   "cell_type": "code",
   "execution_count": 13,
   "metadata": {
    "colab": {
     "base_uri": "https://localhost:8080/"
    },
    "executionInfo": {
     "elapsed": 5,
     "status": "ok",
     "timestamp": 1717776807697,
     "user": {
      "displayName": "Rohnak Agarwal",
      "userId": "08631121490289882797"
     },
     "user_tz": -330
    },
    "id": "ifTEpil1cEjg",
    "outputId": "feab3407-99e6-4080-f1ea-4050aba60c15"
   },
   "outputs": [
    {
     "data": {
      "text/plain": [
       "tensor(True)"
      ]
     },
     "execution_count": 13,
     "metadata": {},
     "output_type": "execute_result"
    }
   ],
   "source": [
    "# it is a linear function of a with piecewise defined scale\n",
    "\n",
    "a.grad == d / a"
   ]
  },
  {
   "cell_type": "code",
   "execution_count": null,
   "metadata": {
    "id": "Hydpv6S1ee_f"
   },
   "outputs": [],
   "source": []
  }
 ],
 "metadata": {
  "colab": {
   "authorship_tag": "ABX9TyOetC0BagH/HuWcb/A4iwsC",
   "provenance": []
  },
  "kernelspec": {
   "display_name": "Python 3",
   "name": "python3"
  },
  "language_info": {
   "codemirror_mode": {
    "name": "ipython",
    "version": 3
   },
   "file_extension": ".py",
   "mimetype": "text/x-python",
   "name": "python",
   "nbconvert_exporter": "python",
   "pygments_lexer": "ipython3",
   "version": "3.11.5"
  }
 },
 "nbformat": 4,
 "nbformat_minor": 0
}
