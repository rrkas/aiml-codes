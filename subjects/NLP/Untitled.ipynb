{
 "cells": [
  {
   "cell_type": "code",
   "execution_count": 1,
   "id": "c306e17f",
   "metadata": {},
   "outputs": [
    {
     "name": "stdout",
     "output_type": "stream",
     "text": [
      "Collecting NLPK\n",
      "  Obtaining dependency information for NLPK from https://files.pythonhosted.org/packages/d7/c3/189e9940b2d14a4d557f74c9cf85b55e2fb3c73f5213e55eef5efeb53c3f/nlpk-0.0.6-py3-none-any.whl.metadata\n",
      "  Downloading nlpk-0.0.6-py3-none-any.whl.metadata (304 bytes)\n",
      "Downloading nlpk-0.0.6-py3-none-any.whl (47 kB)\n",
      "   ---------------------------------------- 0.0/47.7 kB ? eta -:--:--\n",
      "   ----------------- ---------------------- 20.5/47.7 kB 320.0 kB/s eta 0:00:01\n",
      "   ---------------------------------------- 47.7/47.7 kB 398.6 kB/s eta 0:00:00\n",
      "Installing collected packages: NLPK\n",
      "Successfully installed NLPK-0.0.6\n"
     ]
    }
   ],
   "source": [
    "!pip install NLPK"
   ]
  },
  {
   "cell_type": "code",
   "execution_count": null,
   "id": "77ae9ee9",
   "metadata": {},
   "outputs": [],
   "source": []
  }
 ],
 "metadata": {
  "kernelspec": {
   "display_name": "Python 3 (ipykernel)",
   "language": "python",
   "name": "python3"
  },
  "language_info": {
   "codemirror_mode": {
    "name": "ipython",
    "version": 3
   },
   "file_extension": ".py",
   "mimetype": "text/x-python",
   "name": "python",
   "nbconvert_exporter": "python",
   "pygments_lexer": "ipython3",
   "version": "3.11.5"
  }
 },
 "nbformat": 4,
 "nbformat_minor": 5
}
