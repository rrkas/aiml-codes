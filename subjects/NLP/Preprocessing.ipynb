{
 "cells": [
  {
   "cell_type": "markdown",
   "metadata": {},
   "source": [
    "### Text Preprocessing\n",
    "\n",
    "Following code can be used for text preprocessing useful for various NLP applications.\n",
    "\n",
    "First we need to import nltk\n",
    "\n",
    "For a given text, we can do sentence tokenization and word tokenization using nltk library functions.\n",
    "We can remove the punctuations using string library.\n",
    "\n",
    "We can then remove stop words in English to get the important words in the text.\n",
    "\n",
    "We also perform stemming and lemmatization. Stemming and Lemmatization are two different techniques that help reduce our data space. We don’t need to check every single form of a word for reducing the size of the big data corpus.\n"
   ]
  },
  {
   "cell_type": "code",
   "execution_count": 1,
   "metadata": {},
   "outputs": [],
   "source": [
    "# import nltk library for using its different functions\n",
    "import nltk\n",
    "import string\n",
    "import re"
   ]
  },
  {
   "cell_type": "code",
   "execution_count": 2,
   "metadata": {},
   "outputs": [
    {
     "name": "stderr",
     "output_type": "stream",
     "text": [
      "[nltk_data] Downloading package punkt to\n",
      "[nltk_data]     C:\\Users\\Dell\\AppData\\Roaming\\nltk_data...\n",
      "[nltk_data]   Package punkt is already up-to-date!\n",
      "[nltk_data] Downloading package stopwords to\n",
      "[nltk_data]     C:\\Users\\Dell\\AppData\\Roaming\\nltk_data...\n",
      "[nltk_data]   Package stopwords is already up-to-date!\n",
      "[nltk_data] Downloading package wordnet to\n",
      "[nltk_data]     C:\\Users\\Dell\\AppData\\Roaming\\nltk_data...\n",
      "[nltk_data]   Package wordnet is already up-to-date!\n",
      "[nltk_data] Downloading package averaged_perceptron_tagger to\n",
      "[nltk_data]     C:\\Users\\Dell\\AppData\\Roaming\\nltk_data...\n",
      "[nltk_data]   Package averaged_perceptron_tagger is already up-to-\n",
      "[nltk_data]       date!\n"
     ]
    },
    {
     "data": {
      "text/plain": [
       "True"
      ]
     },
     "execution_count": 2,
     "metadata": {},
     "output_type": "execute_result"
    }
   ],
   "source": [
    "nltk.download(\"punkt\")\n",
    "nltk.download(\"stopwords\")\n",
    "nltk.download(\"wordnet\")\n",
    "nltk.download(\"averaged_perceptron_tagger\")"
   ]
  },
  {
   "cell_type": "code",
   "execution_count": 3,
   "metadata": {},
   "outputs": [],
   "source": [
    "#  Sentence Tokenization  - Tokenizes sentences from text\n",
    "from nltk.tokenize import sent_tokenize"
   ]
  },
  {
   "cell_type": "code",
   "execution_count": 4,
   "metadata": {},
   "outputs": [],
   "source": [
    "# Word Tokenization  - Tokenizes words in sentences\n",
    "from nltk.tokenize import word_tokenize"
   ]
  },
  {
   "cell_type": "code",
   "execution_count": 5,
   "metadata": {},
   "outputs": [],
   "source": [
    "statement = \"Hello all, I am Dr. Chetana. Welcome to the lab session of Natural Language Processing(NLP). NLP is a very interesting area.\""
   ]
  },
  {
   "cell_type": "code",
   "execution_count": 6,
   "metadata": {},
   "outputs": [
    {
     "name": "stdout",
     "output_type": "stream",
     "text": [
      "3 ['Hello all, I am Dr. Chetana.', 'Welcome to the lab session of Natural Language Processing(NLP).', 'NLP is a very interesting area.']\n",
      "28 ['Hello', 'all', ',', 'I', 'am', 'Dr.', 'Chetana', '.', 'Welcome', 'to', 'the', 'lab', 'session', 'of', 'Natural', 'Language', 'Processing', '(', 'NLP', ')', '.', 'NLP', 'is', 'a', 'very', 'interesting', 'area', '.']\n"
     ]
    }
   ],
   "source": [
    "sentences = sent_tokenize(statement)\n",
    "print(len(sentences), sentences)\n",
    "words = word_tokenize(statement)\n",
    "print(len(words), words)"
   ]
  },
  {
   "cell_type": "code",
   "execution_count": 7,
   "metadata": {},
   "outputs": [
    {
     "name": "stdout",
     "output_type": "stream",
     "text": [
      "Hello all, I am Dr. Chetana.\n",
      "Welcome to the lab session of Natural Language Processing(NLP).\n",
      "NLP is a very interesting area.\n"
     ]
    }
   ],
   "source": [
    "for sentence in sentences:\n",
    "    print(sentence)"
   ]
  },
  {
   "cell_type": "code",
   "execution_count": 8,
   "metadata": {},
   "outputs": [
    {
     "name": "stdout",
     "output_type": "stream",
     "text": [
      "Hello\n",
      "all\n",
      ",\n",
      "I\n",
      "am\n",
      "Dr.\n",
      "Chetana\n",
      ".\n",
      "Welcome\n",
      "to\n",
      "the\n",
      "lab\n",
      "session\n",
      "of\n",
      "Natural\n",
      "Language\n",
      "Processing\n",
      "(\n",
      "NLP\n",
      ")\n",
      ".\n",
      "NLP\n",
      "is\n",
      "a\n",
      "very\n",
      "interesting\n",
      "area\n",
      ".\n"
     ]
    }
   ],
   "source": [
    "for word in words:\n",
    "    print(word)"
   ]
  },
  {
   "cell_type": "code",
   "execution_count": 9,
   "metadata": {},
   "outputs": [
    {
     "name": "stdout",
     "output_type": "stream",
     "text": [
      "Hello\n",
      "all\n",
      "I\n",
      "am\n",
      "Dr.\n",
      "Chetana\n",
      "Welcome\n",
      "to\n",
      "the\n",
      "lab\n",
      "session\n",
      "of\n",
      "Natural\n",
      "Language\n",
      "Processing\n",
      "NLP\n",
      "NLP\n",
      "is\n",
      "a\n",
      "very\n",
      "interesting\n",
      "area\n"
     ]
    }
   ],
   "source": [
    "# Remove punctuations\n",
    "for word in words:\n",
    "    if word not in string.punctuation:\n",
    "        print(word)"
   ]
  },
  {
   "cell_type": "code",
   "execution_count": 10,
   "metadata": {},
   "outputs": [
    {
     "name": "stdout",
     "output_type": "stream",
     "text": [
      "22 ['Hello', 'all', 'I', 'am', 'Dr.', 'Chetana', 'Welcome', 'to', 'the', 'lab', 'session', 'of', 'Natural', 'Language', 'Processing', 'NLP', 'NLP', 'is', 'a', 'very', 'interesting', 'area']\n"
     ]
    }
   ],
   "source": [
    "only_words = [w for w in words if not w in string.punctuation]\n",
    "print(len(only_words), only_words)"
   ]
  },
  {
   "cell_type": "code",
   "execution_count": 11,
   "metadata": {},
   "outputs": [],
   "source": [
    "# Removal of stop words from the text\n",
    "from nltk.corpus import stopwords"
   ]
  },
  {
   "cell_type": "code",
   "execution_count": 12,
   "metadata": {},
   "outputs": [
    {
     "name": "stdout",
     "output_type": "stream",
     "text": [
      "179 {'once', 'so', \"wouldn't\", 'for', 's', 'y', 'between', 'at', 'she', 'to', 'further', 'few', \"hasn't\", 'did', 'after', 'into', 'all', 'about', 'be', 'by', 'having', 'has', 'doing', 'with', 'himself', 'because', 'while', 'in', 'her', 'theirs', 'wasn', 'll', 'only', 'from', 'whom', 'who', \"should've\", 've', \"couldn't\", 're', 'some', 'their', \"weren't\", 'ain', 'how', 'own', 'can', 'we', 'as', 'should', 'what', 'same', 'before', 'him', 'yours', \"you'd\", \"that'll\", 'which', 'ourselves', 'm', 'herself', 'was', 'if', 'hadn', 'down', 'his', 'is', 'have', 'me', 'the', 'until', 'most', 'are', \"didn't\", 'again', 'being', 'not', 'my', 'they', 'a', 'below', 'both', \"haven't\", 'hers', 'won', 'yourselves', 'during', 'had', 'why', 'does', 'yourself', \"it's\", 'itself', 'when', 'will', \"don't\", 'mightn', 'mustn', 'here', 'were', 'or', \"mustn't\", 'of', \"needn't\", 'this', 'other', \"she's\", 'd', 'shan', 'an', 'under', \"shouldn't\", 'didn', \"wasn't\", \"isn't\", \"you're\", 'too', 'more', 'through', 'i', 'them', 'aren', \"shan't\", 'up', 'couldn', 'on', \"hadn't\", 'and', 'wouldn', 'o', 'against', 'he', 'ours', 'where', 'that', 'it', \"mightn't\", 'these', 'those', 'out', 't', 'doesn', 'isn', 'myself', 'very', 'nor', 'weren', \"won't\", 'your', \"aren't\", 'our', 'above', \"you've\", 'there', 'but', 'needn', 'am', 'then', 'hasn', 'over', 'off', 'any', 'no', 'shouldn', 'haven', 'been', 'than', 'ma', 'such', 'its', 'just', 'don', 'each', 'now', \"you'll\", 'themselves', 'you', 'do', \"doesn't\"}\n"
     ]
    }
   ],
   "source": [
    "# List of English stop words\n",
    "english_stop_words = set(stopwords.words(\"english\"))\n",
    "print(len(english_stop_words), english_stop_words)"
   ]
  },
  {
   "cell_type": "code",
   "execution_count": 13,
   "metadata": {},
   "outputs": [
    {
     "name": "stdout",
     "output_type": "stream",
     "text": [
      "14 ['Hello', 'I', 'Dr.', 'Chetana', 'Welcome', 'lab', 'session', 'Natural', 'Language', 'Processing', 'NLP', 'NLP', 'interesting', 'area']\n"
     ]
    }
   ],
   "source": [
    "# Removal of stop words from the text\n",
    "keywords = [w for w in only_words if not w in english_stop_words]\n",
    "print(len(keywords), keywords)"
   ]
  },
  {
   "cell_type": "markdown",
   "metadata": {},
   "source": [
    "### Lemmatization\n",
    "\n",
    "Lemmatization in NLP is the process through which several different forms of the same word are mapped to one single form, which we can call the root form or the base form. In more technical terms, the root form is called a lemma. By reducing the number of forms a word can take, we make sure that we reduce our data space and that we don’t have to check every single form of a word. It helps us ignore morphological variations on a single word. Lemmatization brings context to the words.So it goes a steps further by linking words with similar meaning to one word. For example if a paragraph has words like cars, trains and automobile, then it will link all of them to automobile. In the below program we use the WordNet lexical database for lemmatization.\n"
   ]
  },
  {
   "cell_type": "code",
   "execution_count": 14,
   "metadata": {},
   "outputs": [
    {
     "name": "stdout",
     "output_type": "stream",
     "text": [
      "22 ['Hello', 'all', 'I', 'am', 'Dr.', 'Chetana', 'Welcome', 'to', 'the', 'lab', 'session', 'of', 'Natural', 'Language', 'Processing', 'NLP', 'NLP', 'is', 'a', 'very', 'interesting', 'area']\n"
     ]
    }
   ],
   "source": [
    "# Lemmatization\n",
    "from nltk.stem import WordNetLemmatizer\n",
    "\n",
    "wordnet_lemmatizer = WordNetLemmatizer()\n",
    "keywords = [w for w in only_words if w in wordnet_lemmatizer.lemmatize(w)]\n",
    "print(len(keywords), keywords)\n",
    "\n",
    "# Next find the roots of the word\n",
    "##for w in keywords:\n",
    "# lemmatized_words=wordnet_lemmatizer.lemmatize(w)\n",
    "# print(wordnet_lemmatizer.lemmatize(w))"
   ]
  },
  {
   "cell_type": "markdown",
   "metadata": {},
   "source": [
    "### Stemming\n",
    "\n",
    "Stemming in NLP is the process of removing prefixes and suffixes from words so that they are reduced to simpler forms which are called stems. The purpose of stemming is to reduce our vocabulary and dimensionality for NLP tasks and to improve speed and efficiency in information retrieval and information processing tasks. Stemming is a simpler, faster process than lemmatization. The difference is that stemming is usually only rule-based approach. And, as we've showed with our earlier example, rule-based approaches can fail very quickly on more complex examples. But for most problems, it works well enough. Many search engines use stemming to improve their search results.\n"
   ]
  },
  {
   "cell_type": "code",
   "execution_count": 15,
   "metadata": {},
   "outputs": [],
   "source": [
    "# Stemming\n",
    "from nltk.stem import PorterStemmer"
   ]
  },
  {
   "cell_type": "code",
   "execution_count": 16,
   "metadata": {},
   "outputs": [
    {
     "name": "stdout",
     "output_type": "stream",
     "text": [
      "hello\n",
      "all\n",
      "i\n",
      "am\n",
      "dr.\n",
      "chetana\n",
      "welcom\n",
      "to\n",
      "the\n",
      "lab\n",
      "session\n",
      "of\n",
      "natur\n",
      "languag\n",
      "process\n",
      "nlp\n",
      "nlp\n",
      "is\n",
      "a\n",
      "veri\n",
      "interest\n",
      "area\n"
     ]
    }
   ],
   "source": [
    "porter_stemmer = PorterStemmer()\n",
    "# First Word tokenization\n",
    "nltk_tokens = nltk.word_tokenize(statement)\n",
    "# Next find the roots of the word\n",
    "for w in keywords:\n",
    "    print(porter_stemmer.stem(w))"
   ]
  },
  {
   "cell_type": "code",
   "execution_count": 17,
   "metadata": {},
   "outputs": [
    {
     "name": "stdout",
     "output_type": "stream",
     "text": [
      "generous ---> generous\n",
      "generate ---> generat\n",
      "generously ---> generous\n",
      "generation ---> generat\n"
     ]
    }
   ],
   "source": [
    "from nltk.stem import SnowballStemmer\n",
    "\n",
    "snowball = SnowballStemmer(language=\"english\")\n",
    "words = [\"generous\", \"generate\", \"generously\", \"generation\"]\n",
    "for word in words:\n",
    "    print(word, \"--->\", snowball.stem(word))"
   ]
  },
  {
   "cell_type": "code",
   "execution_count": 18,
   "metadata": {},
   "outputs": [
    {
     "name": "stdout",
     "output_type": "stream",
     "text": [
      "eating ---> eat\n",
      "eats ---> eat\n",
      "eaten ---> eat\n",
      "puts ---> put\n",
      "putting ---> put\n"
     ]
    }
   ],
   "source": [
    "from nltk.stem import LancasterStemmer\n",
    "\n",
    "lancaster = LancasterStemmer()\n",
    "words = [\"eating\", \"eats\", \"eaten\", \"puts\", \"putting\"]\n",
    "for word in words:\n",
    "    print(word, \"--->\", lancaster.stem(word))"
   ]
  },
  {
   "cell_type": "code",
   "execution_count": 19,
   "metadata": {},
   "outputs": [
    {
     "name": "stdout",
     "output_type": "stream",
     "text": [
      "mass ---> mas\n",
      "was ---> was\n",
      "bee ---> bee\n",
      "computer ---> computer\n",
      "advisable ---> advis\n"
     ]
    }
   ],
   "source": [
    "from nltk.stem import RegexpStemmer\n",
    "\n",
    "regexp = RegexpStemmer(\"ing$|s$|e$|able$\", min=4)\n",
    "words = [\"mass\", \"was\", \"bee\", \"computer\", \"advisable\"]\n",
    "for word in words:\n",
    "    print(word, \"--->\", regexp.stem(word))"
   ]
  },
  {
   "cell_type": "code",
   "execution_count": 20,
   "metadata": {},
   "outputs": [
    {
     "name": "stdout",
     "output_type": "stream",
     "text": [
      "Word                Porter Stemmer      Snowball Stemmer    Lancaster Stemmer             Regexp Stemmer                          \n",
      "friend              friend              friend              friend                        friend                                  \n",
      "friendship          friendship          friendship          friend                        friendship                              \n",
      "friends             friend              friend              friend                        friend                                  \n",
      "friendships         friendship          friendship          friend                        friendship                              \n"
     ]
    }
   ],
   "source": [
    "from nltk.stem import PorterStemmer, SnowballStemmer, LancasterStemmer, RegexpStemmer\n",
    "\n",
    "porter = PorterStemmer()\n",
    "lancaster = LancasterStemmer()\n",
    "snowball = SnowballStemmer(language=\"english\")\n",
    "regexp = RegexpStemmer(\"ing$|s$|e$|able$\", min=4)\n",
    "word_list = [\"friend\", \"friendship\", \"friends\", \"friendships\"]\n",
    "print(\n",
    "    \"{0:20}{1:20}{2:20}{3:30}{4:40}\".format(\n",
    "        \"Word\",\n",
    "        \"Porter Stemmer\",\n",
    "        \"Snowball Stemmer\",\n",
    "        \"Lancaster Stemmer\",\n",
    "        \"Regexp Stemmer\",\n",
    "    )\n",
    ")\n",
    "for word in word_list:\n",
    "    print(\n",
    "        \"{0:20}{1:20}{2:20}{3:30}{4:40}\".format(\n",
    "            word,\n",
    "            porter.stem(word),\n",
    "            snowball.stem(word),\n",
    "            lancaster.stem(word),\n",
    "            regexp.stem(word),\n",
    "        )\n",
    "    )"
   ]
  },
  {
   "cell_type": "markdown",
   "metadata": {},
   "source": [
    "# POS Tagging\n"
   ]
  },
  {
   "cell_type": "code",
   "execution_count": 22,
   "metadata": {},
   "outputs": [
    {
     "name": "stdout",
     "output_type": "stream",
     "text": [
      "[('Hello', 'NNP'), ('all', 'DT'), ('I', 'PRP'), ('am', 'VBP'), ('Dr.', 'NNP'), ('Chetana', 'NNP'), ('Welcome', 'NNP'), ('to', 'TO'), ('the', 'DT'), ('lab', 'NN'), ('session', 'NN'), ('of', 'IN'), ('Natural', 'NNP'), ('Language', 'NNP'), ('Processing', 'NNP'), ('NLP', 'NNP'), ('NLP', 'NNP'), ('is', 'VBZ'), ('a', 'DT'), ('very', 'RB'), ('interesting', 'JJ'), ('area', 'NN')]\n"
     ]
    }
   ],
   "source": [
    "print(nltk.pos_tag(keywords))"
   ]
  },
  {
   "cell_type": "code",
   "execution_count": null,
   "metadata": {},
   "outputs": [],
   "source": []
  }
 ],
 "metadata": {
  "kernelspec": {
   "display_name": "Python 3 (ipykernel)",
   "language": "python",
   "name": "python3"
  },
  "language_info": {
   "codemirror_mode": {
    "name": "ipython",
    "version": 3
   },
   "file_extension": ".py",
   "mimetype": "text/x-python",
   "name": "python",
   "nbconvert_exporter": "python",
   "pygments_lexer": "ipython3",
   "version": "3.11.5"
  }
 },
 "nbformat": 4,
 "nbformat_minor": 2
}
