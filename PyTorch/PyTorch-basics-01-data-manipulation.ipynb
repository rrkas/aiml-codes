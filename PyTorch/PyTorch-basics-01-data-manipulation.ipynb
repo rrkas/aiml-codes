{
 "cells": [
  {
   "cell_type": "markdown",
   "metadata": {
    "id": "DrbDpz8C1GgQ"
   },
   "source": [
    "**Reference**: Dive into Deep Learning -- ASTON ZHANG\n",
    "\n",
    "https://drive.google.com/file/d/1bV_z9nx2dF2oSqM5ly82izKmWwgi9ylj/view?usp=drive_link"
   ]
  },
  {
   "cell_type": "markdown",
   "metadata": {
    "id": "yiN8uG6g_98w"
   },
   "source": [
    "# torch.arange()\n"
   ]
  },
  {
   "cell_type": "code",
   "execution_count": 1,
   "metadata": {
    "colab": {
     "base_uri": "https://localhost:8080/"
    },
    "executionInfo": {
     "elapsed": 3157,
     "status": "ok",
     "timestamp": 1717768142412,
     "user": {
      "displayName": "Rohnak Agarwal",
      "userId": "08631121490289882797"
     },
     "user_tz": -330
    },
    "id": "SFtFGLfJ_sa2",
    "outputId": "916b82af-de23-47a8-b40f-a028a3152fe0"
   },
   "outputs": [
    {
     "name": "stdout",
     "output_type": "stream",
     "text": [
      "tensor([ 0.,  1.,  2.,  3.,  4.,  5.,  6.,  7.,  8.,  9., 10., 11.])\n",
      "12\n",
      "torch.Size([12])\n",
      "tensor([[ 0.,  1.,  2.,  3.],\n",
      "        [ 4.,  5.,  6.,  7.],\n",
      "        [ 8.,  9., 10., 11.]])\n"
     ]
    }
   ],
   "source": [
    "import torch\n",
    "\n",
    "x = torch.arange(12, dtype=torch.float32)\n",
    "print(x)\n",
    "print(x.numel())\n",
    "print(x.shape)\n",
    "\n",
    "X = x.reshape(3, 4)\n",
    "print(X)"
   ]
  },
  {
   "cell_type": "markdown",
   "metadata": {
    "id": "rAhd7g70ApEn"
   },
   "source": [
    "# torch.zeros()\n"
   ]
  },
  {
   "cell_type": "code",
   "execution_count": 2,
   "metadata": {
    "colab": {
     "base_uri": "https://localhost:8080/"
    },
    "executionInfo": {
     "elapsed": 9,
     "status": "ok",
     "timestamp": 1717768142412,
     "user": {
      "displayName": "Rohnak Agarwal",
      "userId": "08631121490289882797"
     },
     "user_tz": -330
    },
    "id": "Vs-QHoFcADQ2",
    "outputId": "74366f20-bd46-4c33-c0af-021ddfc33604"
   },
   "outputs": [
    {
     "name": "stdout",
     "output_type": "stream",
     "text": [
      "tensor([[[0., 0., 0., 0.],\n",
      "         [0., 0., 0., 0.],\n",
      "         [0., 0., 0., 0.]],\n",
      "\n",
      "        [[0., 0., 0., 0.],\n",
      "         [0., 0., 0., 0.],\n",
      "         [0., 0., 0., 0.]]])\n"
     ]
    }
   ],
   "source": [
    "import torch\n",
    "\n",
    "x = torch.zeros((2, 3, 4))\n",
    "print(x)"
   ]
  },
  {
   "cell_type": "markdown",
   "metadata": {
    "id": "JoYRXHAkAyWD"
   },
   "source": [
    "# torch.ones()\n"
   ]
  },
  {
   "cell_type": "code",
   "execution_count": 3,
   "metadata": {
    "colab": {
     "base_uri": "https://localhost:8080/"
    },
    "executionInfo": {
     "elapsed": 7,
     "status": "ok",
     "timestamp": 1717768142412,
     "user": {
      "displayName": "Rohnak Agarwal",
      "userId": "08631121490289882797"
     },
     "user_tz": -330
    },
    "id": "V9DcgvjWAx8j",
    "outputId": "28106832-e290-4ac3-aae0-29505d96593b"
   },
   "outputs": [
    {
     "name": "stdout",
     "output_type": "stream",
     "text": [
      "tensor([[[1., 1., 1., 1.],\n",
      "         [1., 1., 1., 1.],\n",
      "         [1., 1., 1., 1.]],\n",
      "\n",
      "        [[1., 1., 1., 1.],\n",
      "         [1., 1., 1., 1.],\n",
      "         [1., 1., 1., 1.]]])\n"
     ]
    }
   ],
   "source": [
    "import torch\n",
    "\n",
    "x = torch.ones((2, 3, 4))\n",
    "print(x)"
   ]
  },
  {
   "cell_type": "markdown",
   "metadata": {
    "id": "PI-1LV7vA4Pn"
   },
   "source": [
    "# torch.randn()\n"
   ]
  },
  {
   "cell_type": "code",
   "execution_count": 4,
   "metadata": {
    "colab": {
     "base_uri": "https://localhost:8080/"
    },
    "executionInfo": {
     "elapsed": 6,
     "status": "ok",
     "timestamp": 1717768142412,
     "user": {
      "displayName": "Rohnak Agarwal",
      "userId": "08631121490289882797"
     },
     "user_tz": -330
    },
    "id": "c9uRCUZUAuXr",
    "outputId": "30423c33-b35a-414d-a9c2-78848d7417b4"
   },
   "outputs": [
    {
     "name": "stdout",
     "output_type": "stream",
     "text": [
      "tensor([[ 0.7120,  0.1827,  0.1958, -0.7868],\n",
      "        [-0.6093, -1.6479,  0.8631,  1.1127],\n",
      "        [ 0.2990,  0.5038,  0.2990,  1.0472]])\n"
     ]
    }
   ],
   "source": [
    "import torch\n",
    "\n",
    "x = torch.randn(3, 4)\n",
    "print(x)"
   ]
  },
  {
   "cell_type": "markdown",
   "metadata": {
    "id": "ZunciWMyBAls"
   },
   "source": [
    "# torch.tensor()\n"
   ]
  },
  {
   "cell_type": "code",
   "execution_count": 5,
   "metadata": {
    "colab": {
     "base_uri": "https://localhost:8080/"
    },
    "executionInfo": {
     "elapsed": 6,
     "status": "ok",
     "timestamp": 1717768142413,
     "user": {
      "displayName": "Rohnak Agarwal",
      "userId": "08631121490289882797"
     },
     "user_tz": -330
    },
    "id": "iNEDVxglA87z",
    "outputId": "a50c3e15-50e1-4295-f4b8-d9d772e7be82"
   },
   "outputs": [
    {
     "name": "stdout",
     "output_type": "stream",
     "text": [
      "tensor([[2, 1, 4, 3],\n",
      "        [1, 2, 3, 4],\n",
      "        [4, 3, 2, 1]])\n"
     ]
    }
   ],
   "source": [
    "import torch\n",
    "\n",
    "x = torch.tensor([[2, 1, 4, 3], [1, 2, 3, 4], [4, 3, 2, 1]])\n",
    "print(x)"
   ]
  },
  {
   "cell_type": "markdown",
   "metadata": {
    "id": "wvLTKwYkBSdv"
   },
   "source": [
    "## Indexing and Slicing\n"
   ]
  },
  {
   "cell_type": "code",
   "execution_count": 6,
   "metadata": {
    "colab": {
     "base_uri": "https://localhost:8080/"
    },
    "executionInfo": {
     "elapsed": 5,
     "status": "ok",
     "timestamp": 1717768142413,
     "user": {
      "displayName": "Rohnak Agarwal",
      "userId": "08631121490289882797"
     },
     "user_tz": -330
    },
    "id": "CCVwXze4BMDP",
    "outputId": "178ccd00-c990-4441-f568-343f7d0d26be"
   },
   "outputs": [
    {
     "name": "stdout",
     "output_type": "stream",
     "text": [
      "tensor([[ 0.,  1.,  2.,  3.],\n",
      "        [ 4.,  5.,  6.,  7.],\n",
      "        [ 8.,  9., 10., 11.]])\n",
      "tensor([ 8.,  9., 10., 11.])\n",
      "tensor([[ 4.,  5.,  6.,  7.],\n",
      "        [ 8.,  9., 10., 11.]])\n",
      "tensor([[ 0.,  1.,  2.,  3.],\n",
      "        [ 4.,  5., 17.,  7.],\n",
      "        [ 8.,  9., 10., 11.]])\n",
      "tensor([[12., 12., 12., 12.],\n",
      "        [12., 12., 12., 12.],\n",
      "        [ 8.,  9., 10., 11.]])\n"
     ]
    }
   ],
   "source": [
    "import torch\n",
    "\n",
    "x = torch.arange(12, dtype=torch.float32)\n",
    "X = x.reshape(3, 4)\n",
    "print(X)\n",
    "\n",
    "print(X[-1])\n",
    "\n",
    "print(X[1:3])\n",
    "\n",
    "X[1, 2] = 17\n",
    "print(X)\n",
    "\n",
    "X[:2, :] = 12\n",
    "print(X)"
   ]
  },
  {
   "cell_type": "markdown",
   "metadata": {
    "id": "49Io_sY_HBof"
   },
   "source": [
    "## Operators\n"
   ]
  },
  {
   "cell_type": "code",
   "execution_count": 7,
   "metadata": {
    "colab": {
     "base_uri": "https://localhost:8080/"
    },
    "executionInfo": {
     "elapsed": 5,
     "status": "ok",
     "timestamp": 1717768142413,
     "user": {
      "displayName": "Rohnak Agarwal",
      "userId": "08631121490289882797"
     },
     "user_tz": -330
    },
    "id": "Z3s7q0iEHDOE",
    "outputId": "9a7df1e7-0d56-416a-cef5-5ea34bd925ad"
   },
   "outputs": [
    {
     "name": "stdout",
     "output_type": "stream",
     "text": [
      "tensor([ 3.,  4.,  6., 10.])\n",
      "tensor([-1.,  0.,  2.,  6.])\n",
      "tensor([ 2.,  4.,  8., 16.])\n",
      "tensor([0.5000, 1.0000, 2.0000, 4.0000])\n",
      "tensor([ 1.,  4., 16., 64.])\n"
     ]
    }
   ],
   "source": [
    "import torch\n",
    "\n",
    "x = torch.tensor([1.0, 2, 4, 8])\n",
    "y = torch.tensor([2, 2, 2, 2])\n",
    "\n",
    "print(x + y, x - y, x * y, x / y, x**y, sep=\"\\n\")"
   ]
  },
  {
   "cell_type": "markdown",
   "metadata": {
    "id": "IN4ZT8mMIg7k"
   },
   "source": [
    "## Concatenate\n"
   ]
  },
  {
   "cell_type": "code",
   "execution_count": 8,
   "metadata": {
    "colab": {
     "base_uri": "https://localhost:8080/"
    },
    "executionInfo": {
     "elapsed": 630,
     "status": "ok",
     "timestamp": 1717768143039,
     "user": {
      "displayName": "Rohnak Agarwal",
      "userId": "08631121490289882797"
     },
     "user_tz": -330
    },
    "id": "ZYq0dRXVIjGg",
    "outputId": "cf3faeab-a6d6-42d7-fa11-bd25d56b3c8d"
   },
   "outputs": [
    {
     "name": "stdout",
     "output_type": "stream",
     "text": [
      "tensor([[ 0.,  1.,  2.,  3.],\n",
      "        [ 4.,  5.,  6.,  7.],\n",
      "        [ 8.,  9., 10., 11.],\n",
      "        [ 2.,  1.,  4.,  3.],\n",
      "        [ 1.,  2.,  3.,  4.],\n",
      "        [ 4.,  3.,  2.,  1.]])\n",
      "tensor([[ 0.,  1.,  2.,  3.,  2.,  1.,  4.,  3.],\n",
      "        [ 4.,  5.,  6.,  7.,  1.,  2.,  3.,  4.],\n",
      "        [ 8.,  9., 10., 11.,  4.,  3.,  2.,  1.]])\n"
     ]
    }
   ],
   "source": [
    "import torch\n",
    "\n",
    "X = torch.arange(12, dtype=torch.float32).reshape((3, 4))\n",
    "Y = torch.tensor([[2.0, 1, 4, 3], [1, 2, 3, 4], [4, 3, 2, 1]])\n",
    "print(torch.cat((X, Y), dim=0), torch.cat((X, Y), dim=1), sep=\"\\n\")"
   ]
  },
  {
   "cell_type": "markdown",
   "metadata": {
    "id": "PBUmkMQZJPGj"
   },
   "source": [
    "## Logical statements\n"
   ]
  },
  {
   "cell_type": "code",
   "execution_count": 9,
   "metadata": {
    "colab": {
     "base_uri": "https://localhost:8080/"
    },
    "executionInfo": {
     "elapsed": 10,
     "status": "ok",
     "timestamp": 1717768143040,
     "user": {
      "displayName": "Rohnak Agarwal",
      "userId": "08631121490289882797"
     },
     "user_tz": -330
    },
    "id": "g723FMZ7JRHk",
    "outputId": "e89889e8-0104-4e92-9f8d-9b6640ab021b"
   },
   "outputs": [
    {
     "name": "stdout",
     "output_type": "stream",
     "text": [
      "tensor([[False,  True, False,  True],\n",
      "        [False, False, False, False],\n",
      "        [False, False, False, False]])\n"
     ]
    }
   ],
   "source": [
    "import torch\n",
    "\n",
    "X = torch.arange(12, dtype=torch.float32).reshape((3, 4))\n",
    "Y = torch.tensor([[2.0, 1, 4, 3], [1, 2, 3, 4], [4, 3, 2, 1]])\n",
    "\n",
    "print(X == Y)"
   ]
  },
  {
   "cell_type": "markdown",
   "metadata": {
    "id": "OizoZpaIKG_E"
   },
   "source": [
    "## Sum of elements\n"
   ]
  },
  {
   "cell_type": "code",
   "execution_count": 10,
   "metadata": {
    "colab": {
     "base_uri": "https://localhost:8080/"
    },
    "executionInfo": {
     "elapsed": 9,
     "status": "ok",
     "timestamp": 1717768143040,
     "user": {
      "displayName": "Rohnak Agarwal",
      "userId": "08631121490289882797"
     },
     "user_tz": -330
    },
    "id": "TKqiOIY3KLhn",
    "outputId": "b572d13f-ccd7-468f-de00-e45d16475d97"
   },
   "outputs": [
    {
     "name": "stdout",
     "output_type": "stream",
     "text": [
      "tensor(66.)\n"
     ]
    }
   ],
   "source": [
    "import torch\n",
    "\n",
    "X = torch.arange(12, dtype=torch.float32).reshape((3, 4))\n",
    "print(X.sum())"
   ]
  },
  {
   "cell_type": "markdown",
   "metadata": {
    "id": "MAm_O6zCS561"
   },
   "source": [
    "## Broadcasting\n"
   ]
  },
  {
   "cell_type": "code",
   "execution_count": 11,
   "metadata": {
    "colab": {
     "base_uri": "https://localhost:8080/"
    },
    "executionInfo": {
     "elapsed": 8,
     "status": "ok",
     "timestamp": 1717768143040,
     "user": {
      "displayName": "Rohnak Agarwal",
      "userId": "08631121490289882797"
     },
     "user_tz": -330
    },
    "id": "En8jouAHS9TY",
    "outputId": "c266105c-6432-4273-f35a-00489af28014"
   },
   "outputs": [
    {
     "name": "stdout",
     "output_type": "stream",
     "text": [
      "tensor([[0],\n",
      "        [1],\n",
      "        [2]])\n",
      "tensor([[0, 1]])\n",
      "tensor([[0, 1],\n",
      "        [1, 2],\n",
      "        [2, 3]])\n"
     ]
    }
   ],
   "source": [
    "import torch\n",
    "\n",
    "a = torch.arange(3).reshape((3, 1))\n",
    "b = torch.arange(2).reshape((1, 2))\n",
    "print(a, b, sep=\"\\n\")\n",
    "print(a + b)"
   ]
  },
  {
   "cell_type": "markdown",
   "metadata": {
    "id": "3UUKISRoFDW_"
   },
   "source": [
    "# torch.exp()\n"
   ]
  },
  {
   "cell_type": "code",
   "execution_count": 12,
   "metadata": {
    "colab": {
     "base_uri": "https://localhost:8080/"
    },
    "executionInfo": {
     "elapsed": 7,
     "status": "ok",
     "timestamp": 1717768143040,
     "user": {
      "displayName": "Rohnak Agarwal",
      "userId": "08631121490289882797"
     },
     "user_tz": -330
    },
    "id": "6fL2uXfuBfpT",
    "outputId": "cc034618-5008-4a0b-8fe5-9288151d55ae"
   },
   "outputs": [
    {
     "name": "stdout",
     "output_type": "stream",
     "text": [
      "tensor([[-1.4513,  0.5437,  0.4488,  0.2563],\n",
      "        [-0.8499,  0.7424,  1.2159,  2.0446],\n",
      "        [ 0.0771, -1.1566,  0.6754,  1.4588]])\n",
      "tensor([[0.2343, 1.7224, 1.5665, 1.2922],\n",
      "        [0.4275, 2.1009, 3.3732, 7.7257],\n",
      "        [1.0801, 0.3145, 1.9648, 4.3010]])\n"
     ]
    }
   ],
   "source": [
    "import torch\n",
    "\n",
    "x = torch.randn((3, 4))\n",
    "print(x)\n",
    "print(torch.exp(x))"
   ]
  },
  {
   "cell_type": "markdown",
   "metadata": {
    "id": "HNsZRJ2XUIyy"
   },
   "source": [
    "# Saving Memory\n"
   ]
  },
  {
   "cell_type": "markdown",
   "metadata": {
    "id": "NY_tx8ToVNS_"
   },
   "source": [
    "## Normal\n"
   ]
  },
  {
   "cell_type": "code",
   "execution_count": 13,
   "metadata": {
    "colab": {
     "base_uri": "https://localhost:8080/"
    },
    "executionInfo": {
     "elapsed": 6,
     "status": "ok",
     "timestamp": 1717768143040,
     "user": {
      "displayName": "Rohnak Agarwal",
      "userId": "08631121490289882797"
     },
     "user_tz": -330
    },
    "id": "QVTAi-nTUKUV",
    "outputId": "18830e1d-185b-4e78-8763-562f6d2a4114"
   },
   "outputs": [
    {
     "name": "stdout",
     "output_type": "stream",
     "text": [
      "140704037331880 140704037332040\n",
      "False\n"
     ]
    }
   ],
   "source": [
    "X, Y = 5, 10\n",
    "print(id(X), id(Y))\n",
    "\n",
    "before = id(Y)\n",
    "Y = Y + X\n",
    "print(id(Y) == before)"
   ]
  },
  {
   "cell_type": "markdown",
   "metadata": {
    "id": "KfSko7RBVQF5"
   },
   "source": [
    "## torch (in-place updates)\n"
   ]
  },
  {
   "cell_type": "code",
   "execution_count": 14,
   "metadata": {
    "colab": {
     "base_uri": "https://localhost:8080/"
    },
    "executionInfo": {
     "elapsed": 6,
     "status": "ok",
     "timestamp": 1717768143040,
     "user": {
      "displayName": "Rohnak Agarwal",
      "userId": "08631121490289882797"
     },
     "user_tz": -330
    },
    "id": "Ijo1KFmQVGcX",
    "outputId": "4c570393-4a37-4e37-c019-d12f9406fa86"
   },
   "outputs": [
    {
     "name": "stdout",
     "output_type": "stream",
     "text": [
      "tensor([[ 0.,  1.,  2.,  3.],\n",
      "        [ 4.,  5.,  6.,  7.],\n",
      "        [ 8.,  9., 10., 11.]])\n",
      "tensor([[2., 1., 4., 3.],\n",
      "        [1., 2., 3., 4.],\n",
      "        [4., 3., 2., 1.]])\n",
      "tensor([[0., 0., 0., 0.],\n",
      "        [0., 0., 0., 0.],\n",
      "        [0., 0., 0., 0.]])\n",
      "1623250026032\n",
      "1623250026032\n",
      "1623250012784\n",
      "1623250015856\n",
      "1623250015856\n",
      "True\n"
     ]
    }
   ],
   "source": [
    "import torch\n",
    "\n",
    "X = torch.arange(12, dtype=torch.float32).reshape((3, 4))\n",
    "Y = torch.tensor([[2.0, 1, 4, 3], [1, 2, 3, 4], [4, 3, 2, 1]])\n",
    "Z = torch.zeros_like(Y)\n",
    "print(X, Y, Z, sep=\"\\n\")\n",
    "print(id(Z))\n",
    "\n",
    "Z[:] = X + Y\n",
    "print(id(Z))\n",
    "\n",
    "Z = X + Y\n",
    "print(id(Z))\n",
    "\n",
    "print(id(X))\n",
    "before = id(X)\n",
    "X += Y\n",
    "print(id(X))\n",
    "print(id(X) == before)"
   ]
  },
  {
   "cell_type": "markdown",
   "metadata": {
    "id": "kbjKFq8ZnECC"
   },
   "source": [
    "# Conversion\n"
   ]
  },
  {
   "cell_type": "markdown",
   "metadata": {
    "id": "ScFGIN4OnFj4"
   },
   "source": [
    "## To Numpy\n"
   ]
  },
  {
   "cell_type": "code",
   "execution_count": 15,
   "metadata": {
    "colab": {
     "base_uri": "https://localhost:8080/"
    },
    "executionInfo": {
     "elapsed": 5,
     "status": "ok",
     "timestamp": 1717768143040,
     "user": {
      "displayName": "Rohnak Agarwal",
      "userId": "08631121490289882797"
     },
     "user_tz": -330
    },
    "id": "tOCQNA2gVsCl",
    "outputId": "fa245c74-55a7-496e-d736-2ce690385a15"
   },
   "outputs": [
    {
     "name": "stdout",
     "output_type": "stream",
     "text": [
      "tensor([[ 0.,  1.,  2.,  3.],\n",
      "        [ 4.,  5.,  6.,  7.],\n",
      "        [ 8.,  9., 10., 11.]])\n",
      "[[ 0.  1.  2.  3.]\n",
      " [ 4.  5.  6.  7.]\n",
      " [ 8.  9. 10. 11.]]\n"
     ]
    }
   ],
   "source": [
    "import torch\n",
    "\n",
    "X = torch.arange(12, dtype=torch.float32).reshape((3, 4))\n",
    "print(X)\n",
    "\n",
    "A = X.numpy()\n",
    "print(A)"
   ]
  },
  {
   "cell_type": "markdown",
   "metadata": {
    "id": "UHF7aW9ynqd7"
   },
   "source": [
    "## From Numpy\n"
   ]
  },
  {
   "cell_type": "code",
   "execution_count": 16,
   "metadata": {
    "colab": {
     "base_uri": "https://localhost:8080/"
    },
    "executionInfo": {
     "elapsed": 4,
     "status": "ok",
     "timestamp": 1717768143040,
     "user": {
      "displayName": "Rohnak Agarwal",
      "userId": "08631121490289882797"
     },
     "user_tz": -330
    },
    "id": "TT6ZN1vNnQoe",
    "outputId": "47ed112c-5ab5-4ddb-ae6d-bc9381f80f9f"
   },
   "outputs": [
    {
     "name": "stdout",
     "output_type": "stream",
     "text": [
      "[[ 0.  1.  2.  3.]\n",
      " [ 4.  5.  6.  7.]\n",
      " [ 8.  9. 10. 11.]]\n",
      "tensor([[ 0.,  1.,  2.,  3.],\n",
      "        [ 4.,  5.,  6.,  7.],\n",
      "        [ 8.,  9., 10., 11.]])\n"
     ]
    }
   ],
   "source": [
    "import numpy as np\n",
    "import torch\n",
    "\n",
    "A = np.arange(12, dtype=np.float32).reshape((3, 4))\n",
    "print(A)\n",
    "\n",
    "X = torch.from_numpy(A)\n",
    "print(X)"
   ]
  },
  {
   "cell_type": "markdown",
   "metadata": {
    "id": "OYIvu02OozHq"
   },
   "source": [
    "## To and From Python built-in objects\n"
   ]
  },
  {
   "cell_type": "code",
   "execution_count": 17,
   "metadata": {
    "colab": {
     "base_uri": "https://localhost:8080/"
    },
    "executionInfo": {
     "elapsed": 3,
     "status": "ok",
     "timestamp": 1717768143040,
     "user": {
      "displayName": "Rohnak Agarwal",
      "userId": "08631121490289882797"
     },
     "user_tz": -330
    },
    "id": "Qn9ynp8en0ye",
    "outputId": "caf27efa-715e-405f-ce76-21caec932c5d"
   },
   "outputs": [
    {
     "name": "stdout",
     "output_type": "stream",
     "text": [
      "tensor([[ 0.,  1.,  2.,  3.],\n",
      "        [ 4.,  5.,  6.,  7.],\n",
      "        [ 8.,  9., 10., 11.]])\n",
      "[[0.0, 1.0, 2.0, 3.0], [4.0, 5.0, 6.0, 7.0], [8.0, 9.0, 10.0, 11.0]]\n",
      "[tensor([0., 1., 2., 3.]), tensor([4., 5., 6., 7.]), tensor([ 8.,  9., 10., 11.])]\n",
      "tensor([[ 0.,  1.,  2.,  3.],\n",
      "        [ 4.,  5.,  6.,  7.],\n",
      "        [ 8.,  9., 10., 11.]])\n",
      "tensor([3.5000])\n",
      "3.5\n",
      "3.5\n",
      "3\n"
     ]
    }
   ],
   "source": [
    "import torch\n",
    "\n",
    "X = torch.arange(12, dtype=torch.float32).reshape((3, 4))\n",
    "print(X)\n",
    "A = X.tolist()\n",
    "print(A)\n",
    "print(list(X))\n",
    "X = torch.tensor(A)\n",
    "print(X)\n",
    "\n",
    "a = torch.tensor([3.5])\n",
    "print(a, a.item(), float(a), int(a), sep=\"\\n\")"
   ]
  },
  {
   "cell_type": "code",
   "execution_count": null,
   "metadata": {
    "executionInfo": {
     "elapsed": 3,
     "status": "ok",
     "timestamp": 1717768143040,
     "user": {
      "displayName": "Rohnak Agarwal",
      "userId": "08631121490289882797"
     },
     "user_tz": -330
    },
    "id": "_nDxAf22pAZ2"
   },
   "outputs": [],
   "source": []
  }
 ],
 "metadata": {
  "colab": {
   "authorship_tag": "ABX9TyNRCfAXnSWr/lrWW7JkRS1h",
   "provenance": []
  },
  "kernelspec": {
   "display_name": "Python 3",
   "name": "python3"
  },
  "language_info": {
   "codemirror_mode": {
    "name": "ipython",
    "version": 3
   },
   "file_extension": ".py",
   "mimetype": "text/x-python",
   "name": "python",
   "nbconvert_exporter": "python",
   "pygments_lexer": "ipython3",
   "version": "3.11.5"
  }
 },
 "nbformat": 4,
 "nbformat_minor": 0
}
