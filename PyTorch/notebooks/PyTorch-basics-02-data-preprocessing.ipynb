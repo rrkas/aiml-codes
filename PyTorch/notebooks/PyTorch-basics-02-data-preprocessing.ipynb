{
 "cells": [
  {
   "cell_type": "markdown",
   "metadata": {
    "id": "arWpYjQc1Rsd"
   },
   "source": [
    "**Reference**: Dive into Deep Learning -- ASTON ZHANG\n",
    "\n",
    "https://drive.google.com/file/d/1bV_z9nx2dF2oSqM5ly82izKmWwgi9ylj/view?usp=drive_link"
   ]
  },
  {
   "cell_type": "markdown",
   "metadata": {
    "id": "TFLw0a2Ewyfx"
   },
   "source": [
    "# Load Data"
   ]
  },
  {
   "cell_type": "code",
   "execution_count": 1,
   "metadata": {
    "executionInfo": {
     "elapsed": 5,
     "status": "ok",
     "timestamp": 1717768418550,
     "user": {
      "displayName": "Rohnak Agarwal",
      "userId": "08631121490289882797"
     },
     "user_tz": -330
    },
    "id": "YNd4ycctrDBU"
   },
   "outputs": [],
   "source": [
    "import os\n",
    "from pathlib import Path\n",
    "\n",
    "\n",
    "data_file = Path(\"../data/house_tiny.pt-basics-02.csv\")\n",
    "os.makedirs(data_file.parent, exist_ok=True)\n",
    "\n",
    "with open(data_file, \"w\") as f:\n",
    "    f.write(\n",
    "        \"\"\"NumRooms,RoofType,Price\n",
    "NA,NA,127500\n",
    "2,NA,106000\n",
    "4,Slate,178100\n",
    "NA,NA,140000\"\"\"\n",
    "    )"
   ]
  },
  {
   "cell_type": "code",
   "execution_count": 2,
   "metadata": {
    "colab": {
     "base_uri": "https://localhost:8080/"
    },
    "executionInfo": {
     "elapsed": 855,
     "status": "ok",
     "timestamp": 1717768419401,
     "user": {
      "displayName": "Rohnak Agarwal",
      "userId": "08631121490289882797"
     },
     "user_tz": -330
    },
    "id": "s9ecJxM_rp5N",
    "outputId": "6656566c-0335-4aa6-c40b-fbed93c16765"
   },
   "outputs": [
    {
     "name": "stdout",
     "output_type": "stream",
     "text": [
      "   NumRooms RoofType   Price\n",
      "0       NaN      NaN  127500\n",
      "1       2.0      NaN  106000\n",
      "2       4.0    Slate  178100\n",
      "3       NaN      NaN  140000\n"
     ]
    }
   ],
   "source": [
    "import pandas as pd\n",
    "\n",
    "data = pd.read_csv(data_file)\n",
    "print(data)"
   ]
  },
  {
   "cell_type": "markdown",
   "metadata": {
    "id": "V2CRXJvfw1MB"
   },
   "source": [
    "# Data Preparation"
   ]
  },
  {
   "cell_type": "code",
   "execution_count": 3,
   "metadata": {
    "colab": {
     "base_uri": "https://localhost:8080/"
    },
    "executionInfo": {
     "elapsed": 4,
     "status": "ok",
     "timestamp": 1717768419402,
     "user": {
      "displayName": "Rohnak Agarwal",
      "userId": "08631121490289882797"
     },
     "user_tz": -330
    },
    "id": "iaL7n9Jhu4Wa",
    "outputId": "c8fd5df9-a222-420b-dddc-7db5bebbcf43"
   },
   "outputs": [
    {
     "name": "stdout",
     "output_type": "stream",
     "text": [
      "   NumRooms  RoofType_Slate  RoofType_nan\n",
      "0       NaN               0             1\n",
      "1       2.0               0             1\n",
      "2       4.0               1             0\n",
      "3       NaN               0             1\n"
     ]
    }
   ],
   "source": [
    "inputs, targets = data.iloc[:, 0:2], data.iloc[:, 2]\n",
    "\n",
    "\"\"\"\n",
    "For categorical input fields, we can treat NaN as a category. Since the RoofType\n",
    "column takes values Slate and NaN, pandas can convert this column into two\n",
    "columns RoofType_Slate and RoofType_nan. A row whose roof type is Slate will\n",
    "set values of RoofType_Slate and RoofType_nan to 1 and 0, respectively.\n",
    "\"\"\"\n",
    "\n",
    "inputs = pd.get_dummies(inputs, dummy_na=True, dtype=int)\n",
    "\n",
    "print(inputs)"
   ]
  },
  {
   "cell_type": "code",
   "execution_count": 4,
   "metadata": {
    "colab": {
     "base_uri": "https://localhost:8080/"
    },
    "executionInfo": {
     "elapsed": 3,
     "status": "ok",
     "timestamp": 1717768419402,
     "user": {
      "displayName": "Rohnak Agarwal",
      "userId": "08631121490289882797"
     },
     "user_tz": -330
    },
    "id": "JBsTnHklyHCk",
    "outputId": "b69ba287-390d-4aa4-bd6a-652658667aab"
   },
   "outputs": [
    {
     "name": "stdout",
     "output_type": "stream",
     "text": [
      "   NumRooms  RoofType_Slate  RoofType_nan\n",
      "0       3.0               0             1\n",
      "1       2.0               0             1\n",
      "2       4.0               1             0\n",
      "3       3.0               0             1\n"
     ]
    }
   ],
   "source": [
    "\"\"\"\n",
    "For missing numerical values, one common heuristic is to replace the NaN entries\n",
    "with the mean value of the corresponding column.\n",
    "\"\"\"\n",
    "\n",
    "inputs = inputs.fillna(inputs.mean())\n",
    "print(inputs)"
   ]
  },
  {
   "cell_type": "markdown",
   "metadata": {
    "id": "XU2f9uHPzB3r"
   },
   "source": [
    "# Conversion to the Tensor Format"
   ]
  },
  {
   "cell_type": "code",
   "execution_count": 5,
   "metadata": {
    "colab": {
     "base_uri": "https://localhost:8080/"
    },
    "executionInfo": {
     "elapsed": 4878,
     "status": "ok",
     "timestamp": 1717768424277,
     "user": {
      "displayName": "Rohnak Agarwal",
      "userId": "08631121490289882797"
     },
     "user_tz": -330
    },
    "id": "1iIOv1hTw-Wb",
    "outputId": "a3979a17-375b-4101-d316-02d5d642ca51"
   },
   "outputs": [
    {
     "name": "stdout",
     "output_type": "stream",
     "text": [
      "tensor([[3., 0., 1.],\n",
      "        [2., 0., 1.],\n",
      "        [4., 1., 0.],\n",
      "        [3., 0., 1.]], dtype=torch.float64)\n",
      "tensor([127500, 106000, 178100, 140000])\n"
     ]
    }
   ],
   "source": [
    "import torch\n",
    "\n",
    "X, y = torch.tensor(inputs.values), torch.tensor(targets.values)\n",
    "print(X, y, sep=\"\\n\")"
   ]
  },
  {
   "cell_type": "code",
   "execution_count": null,
   "metadata": {
    "executionInfo": {
     "elapsed": 4,
     "status": "ok",
     "timestamp": 1717768424278,
     "user": {
      "displayName": "Rohnak Agarwal",
      "userId": "08631121490289882797"
     },
     "user_tz": -330
    },
    "id": "VLu3PDpY0XFG"
   },
   "outputs": [],
   "source": []
  }
 ],
 "metadata": {
  "colab": {
   "authorship_tag": "ABX9TyOTSg4zU/FdKzb/1WzusODl",
   "provenance": []
  },
  "kernelspec": {
   "display_name": "Python 3",
   "name": "python3"
  },
  "language_info": {
   "codemirror_mode": {
    "name": "ipython",
    "version": 3
   },
   "file_extension": ".py",
   "mimetype": "text/x-python",
   "name": "python",
   "nbconvert_exporter": "python",
   "pygments_lexer": "ipython3",
   "version": "3.11.5"
  }
 },
 "nbformat": 4,
 "nbformat_minor": 0
}
