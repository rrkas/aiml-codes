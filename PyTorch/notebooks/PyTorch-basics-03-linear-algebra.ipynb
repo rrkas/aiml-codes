{
 "cells": [
  {
   "cell_type": "markdown",
   "metadata": {
    "id": "Bwt5ss021Xe6"
   },
   "source": [
    "**Reference**: Dive into Deep Learning -- ASTON ZHANG\n",
    "\n",
    "https://drive.google.com/file/d/1bV_z9nx2dF2oSqM5ly82izKmWwgi9ylj/view?usp=drive_link"
   ]
  },
  {
   "cell_type": "code",
   "execution_count": 1,
   "metadata": {
    "executionInfo": {
     "elapsed": 6426,
     "status": "ok",
     "timestamp": 1717765873759,
     "user": {
      "displayName": "Rohnak Agarwal",
      "userId": "08631121490289882797"
     },
     "user_tz": -330
    },
    "id": "gpTFICPF0mwN"
   },
   "outputs": [],
   "source": [
    "import torch"
   ]
  },
  {
   "cell_type": "markdown",
   "metadata": {
    "id": "H1FBdkAA034D"
   },
   "source": [
    "## Scalars"
   ]
  },
  {
   "cell_type": "code",
   "execution_count": 2,
   "metadata": {
    "colab": {
     "base_uri": "https://localhost:8080/"
    },
    "executionInfo": {
     "elapsed": 4,
     "status": "ok",
     "timestamp": 1717765885057,
     "user": {
      "displayName": "Rohnak Agarwal",
      "userId": "08631121490289882797"
     },
     "user_tz": -330
    },
    "id": "6g2-lKi00uMb",
    "outputId": "9a23b0e8-c556-440a-a284-681151b04f60"
   },
   "outputs": [
    {
     "name": "stdout",
     "output_type": "stream",
     "text": [
      "tensor(5.)\n",
      "tensor(6.)\n",
      "tensor(1.5000)\n",
      "tensor(9.)\n"
     ]
    }
   ],
   "source": [
    "x = torch.tensor(3.0)\n",
    "y = torch.tensor(2.0)\n",
    "\n",
    "print(x + y, x * y, x / y, x**y, sep=\"\\n\")"
   ]
  },
  {
   "cell_type": "markdown",
   "metadata": {
    "id": "SH43GsQj06sh"
   },
   "source": [
    "## Vectors"
   ]
  },
  {
   "cell_type": "code",
   "execution_count": 3,
   "metadata": {
    "colab": {
     "base_uri": "https://localhost:8080/"
    },
    "executionInfo": {
     "elapsed": 4,
     "status": "ok",
     "timestamp": 1717766049315,
     "user": {
      "displayName": "Rohnak Agarwal",
      "userId": "08631121490289882797"
     },
     "user_tz": -330
    },
    "id": "MRFhffLk00AL",
    "outputId": "cb2c66b7-c5a4-42f8-e150-1379c86b2c93"
   },
   "outputs": [
    {
     "data": {
      "text/plain": [
       "tensor([0, 1, 2])"
      ]
     },
     "execution_count": 3,
     "metadata": {},
     "output_type": "execute_result"
    }
   ],
   "source": [
    "x = torch.arange(3)\n",
    "x"
   ]
  },
  {
   "cell_type": "code",
   "execution_count": 4,
   "metadata": {
    "colab": {
     "base_uri": "https://localhost:8080/"
    },
    "executionInfo": {
     "elapsed": 5,
     "status": "ok",
     "timestamp": 1717766186966,
     "user": {
      "displayName": "Rohnak Agarwal",
      "userId": "08631121490289882797"
     },
     "user_tz": -330
    },
    "id": "UziAuiyx1co1",
    "outputId": "bc09b29a-91c0-4ec0-d5c8-b2dcb6a33399"
   },
   "outputs": [
    {
     "name": "stdout",
     "output_type": "stream",
     "text": [
      "tensor(2)\n",
      "3\n",
      "torch.Size([3])\n"
     ]
    }
   ],
   "source": [
    "print(x[2], len(x), x.shape, sep=\"\\n\")"
   ]
  },
  {
   "cell_type": "markdown",
   "metadata": {
    "id": "nVFiWLmk2EJw"
   },
   "source": [
    "## Matrices"
   ]
  },
  {
   "cell_type": "code",
   "execution_count": 5,
   "metadata": {
    "colab": {
     "base_uri": "https://localhost:8080/"
    },
    "executionInfo": {
     "elapsed": 2,
     "status": "ok",
     "timestamp": 1717766238911,
     "user": {
      "displayName": "Rohnak Agarwal",
      "userId": "08631121490289882797"
     },
     "user_tz": -330
    },
    "id": "0Ty4yx9b1-Rx",
    "outputId": "e26e5dff-7a0a-4698-e88d-72fc90b45057"
   },
   "outputs": [
    {
     "data": {
      "text/plain": [
       "tensor([[0, 1],\n",
       "        [2, 3],\n",
       "        [4, 5]])"
      ]
     },
     "execution_count": 5,
     "metadata": {},
     "output_type": "execute_result"
    }
   ],
   "source": [
    "A = torch.arange(6).reshape(3, 2)\n",
    "A"
   ]
  },
  {
   "cell_type": "code",
   "execution_count": 6,
   "metadata": {
    "colab": {
     "base_uri": "https://localhost:8080/"
    },
    "executionInfo": {
     "elapsed": 3,
     "status": "ok",
     "timestamp": 1717766253360,
     "user": {
      "displayName": "Rohnak Agarwal",
      "userId": "08631121490289882797"
     },
     "user_tz": -330
    },
    "id": "GOqsSo0Z2K1u",
    "outputId": "6dc97d64-c1a1-473d-f13b-7c0c6af6ce05"
   },
   "outputs": [
    {
     "data": {
      "text/plain": [
       "tensor([[0, 2, 4],\n",
       "        [1, 3, 5]])"
      ]
     },
     "execution_count": 6,
     "metadata": {},
     "output_type": "execute_result"
    }
   ],
   "source": [
    "A.T"
   ]
  },
  {
   "cell_type": "code",
   "execution_count": 7,
   "metadata": {
    "colab": {
     "base_uri": "https://localhost:8080/"
    },
    "executionInfo": {
     "elapsed": 445,
     "status": "ok",
     "timestamp": 1717766319844,
     "user": {
      "displayName": "Rohnak Agarwal",
      "userId": "08631121490289882797"
     },
     "user_tz": -330
    },
    "id": "c5d2WGHg2ObZ",
    "outputId": "09a769eb-1bcf-49fe-bd07-20c04d36c29c"
   },
   "outputs": [
    {
     "name": "stdout",
     "output_type": "stream",
     "text": [
      "tensor([[True, True, True],\n",
      "        [True, True, True],\n",
      "        [True, True, True]])\n",
      "True\n"
     ]
    }
   ],
   "source": [
    "# symmetric matrix test\n",
    "\n",
    "A = torch.tensor([[1, 2, 3], [2, 0, 4], [3, 4, 5]])\n",
    "print(A == A.T)\n",
    "print(all((A == A.T).tolist()))"
   ]
  },
  {
   "cell_type": "markdown",
   "metadata": {
    "id": "MC_BJDjp20h-"
   },
   "source": [
    "## Tensors"
   ]
  },
  {
   "cell_type": "code",
   "execution_count": 8,
   "metadata": {
    "colab": {
     "base_uri": "https://localhost:8080/"
    },
    "executionInfo": {
     "elapsed": 425,
     "status": "ok",
     "timestamp": 1717766420511,
     "user": {
      "displayName": "Rohnak Agarwal",
      "userId": "08631121490289882797"
     },
     "user_tz": -330
    },
    "id": "FyKpUZn12XRy",
    "outputId": "27bf496d-bb0b-4db8-bf56-b4f12d52d4ee"
   },
   "outputs": [
    {
     "data": {
      "text/plain": [
       "tensor([[[ 0,  1,  2,  3],\n",
       "         [ 4,  5,  6,  7],\n",
       "         [ 8,  9, 10, 11]],\n",
       "\n",
       "        [[12, 13, 14, 15],\n",
       "         [16, 17, 18, 19],\n",
       "         [20, 21, 22, 23]]])"
      ]
     },
     "execution_count": 8,
     "metadata": {},
     "output_type": "execute_result"
    }
   ],
   "source": [
    "torch.arange(24).reshape(2, 3, 4)"
   ]
  },
  {
   "cell_type": "code",
   "execution_count": 9,
   "metadata": {
    "colab": {
     "base_uri": "https://localhost:8080/"
    },
    "executionInfo": {
     "elapsed": 4,
     "status": "ok",
     "timestamp": 1717766439259,
     "user": {
      "displayName": "Rohnak Agarwal",
      "userId": "08631121490289882797"
     },
     "user_tz": -330
    },
    "id": "cVQ_Qjuc23JJ",
    "outputId": "796193c7-c03c-47bc-c96f-2df5ad12bb7f"
   },
   "outputs": [
    {
     "name": "stdout",
     "output_type": "stream",
     "text": [
      "tensor([[0., 1., 2.],\n",
      "        [3., 4., 5.]])\n",
      "tensor([[ 0.,  2.,  4.],\n",
      "        [ 6.,  8., 10.]])\n"
     ]
    }
   ],
   "source": [
    "A = torch.arange(6, dtype=torch.float32).reshape(2, 3)\n",
    "B = A.clone()  # Assign a copy of A to B by allocating new memory\n",
    "print(A, A + B, sep=\"\\n\")"
   ]
  },
  {
   "cell_type": "code",
   "execution_count": 10,
   "metadata": {
    "colab": {
     "base_uri": "https://localhost:8080/"
    },
    "executionInfo": {
     "elapsed": 3,
     "status": "ok",
     "timestamp": 1717766477433,
     "user": {
      "displayName": "Rohnak Agarwal",
      "userId": "08631121490289882797"
     },
     "user_tz": -330
    },
    "id": "xZfXaZDR272I",
    "outputId": "455efc3b-57c5-4354-8d13-668e6b118913"
   },
   "outputs": [
    {
     "data": {
      "text/plain": [
       "tensor([[ 0.,  1.,  4.],\n",
       "        [ 9., 16., 25.]])"
      ]
     },
     "execution_count": 10,
     "metadata": {},
     "output_type": "execute_result"
    }
   ],
   "source": [
    "# Hadamard product (A ⊙ B)\n",
    "\n",
    "A * B"
   ]
  },
  {
   "cell_type": "code",
   "execution_count": 11,
   "metadata": {
    "colab": {
     "base_uri": "https://localhost:8080/"
    },
    "executionInfo": {
     "elapsed": 2,
     "status": "ok",
     "timestamp": 1717766509753,
     "user": {
      "displayName": "Rohnak Agarwal",
      "userId": "08631121490289882797"
     },
     "user_tz": -330
    },
    "id": "ChJgzJik3FFT",
    "outputId": "0111a03f-b4e3-4b15-b6d2-1daa7f7dbba1"
   },
   "outputs": [
    {
     "name": "stdout",
     "output_type": "stream",
     "text": [
      "tensor([[[ 2,  3,  4,  5],\n",
      "         [ 6,  7,  8,  9],\n",
      "         [10, 11, 12, 13]],\n",
      "\n",
      "        [[14, 15, 16, 17],\n",
      "         [18, 19, 20, 21],\n",
      "         [22, 23, 24, 25]]])\n",
      "torch.Size([2, 3, 4])\n"
     ]
    }
   ],
   "source": [
    "a = 2\n",
    "X = torch.arange(24).reshape(2, 3, 4)\n",
    "print(a + X, (a * X).shape, sep=\"\\n\")"
   ]
  },
  {
   "cell_type": "code",
   "execution_count": 12,
   "metadata": {
    "colab": {
     "base_uri": "https://localhost:8080/"
    },
    "executionInfo": {
     "elapsed": 2,
     "status": "ok",
     "timestamp": 1717766544709,
     "user": {
      "displayName": "Rohnak Agarwal",
      "userId": "08631121490289882797"
     },
     "user_tz": -330
    },
    "id": "06uk4kVj3KSC",
    "outputId": "b2ea6b47-414e-40c0-b1d6-09118fee1994"
   },
   "outputs": [
    {
     "name": "stdout",
     "output_type": "stream",
     "text": [
      "tensor([0., 1., 2.])\n",
      "tensor(3.)\n"
     ]
    }
   ],
   "source": [
    "x = torch.arange(3, dtype=torch.float32)\n",
    "print(x, x.sum(), sep=\"\\n\")"
   ]
  },
  {
   "cell_type": "code",
   "execution_count": 13,
   "metadata": {
    "colab": {
     "base_uri": "https://localhost:8080/"
    },
    "executionInfo": {
     "elapsed": 2,
     "status": "ok",
     "timestamp": 1717766567507,
     "user": {
      "displayName": "Rohnak Agarwal",
      "userId": "08631121490289882797"
     },
     "user_tz": -330
    },
    "id": "yOq608Ke3VlB",
    "outputId": "fa1f7b09-5cea-4d6a-d024-abc25f2a88a3"
   },
   "outputs": [
    {
     "name": "stdout",
     "output_type": "stream",
     "text": [
      "torch.Size([2, 3])\n",
      "tensor(15.)\n"
     ]
    }
   ],
   "source": [
    "print(A.shape, A.sum(), sep=\"\\n\")"
   ]
  },
  {
   "cell_type": "code",
   "execution_count": 14,
   "metadata": {
    "colab": {
     "base_uri": "https://localhost:8080/"
    },
    "executionInfo": {
     "elapsed": 3,
     "status": "ok",
     "timestamp": 1717766586877,
     "user": {
      "displayName": "Rohnak Agarwal",
      "userId": "08631121490289882797"
     },
     "user_tz": -330
    },
    "id": "Ew_3pjeI3YPM",
    "outputId": "dfee2f05-553d-4549-f3ff-eb01c94d5f1f"
   },
   "outputs": [
    {
     "name": "stdout",
     "output_type": "stream",
     "text": [
      "torch.Size([2, 3])\n",
      "torch.Size([3])\n"
     ]
    }
   ],
   "source": [
    "print(A.shape, A.sum(axis=0).shape, sep=\"\\n\")"
   ]
  },
  {
   "cell_type": "code",
   "execution_count": 15,
   "metadata": {
    "colab": {
     "base_uri": "https://localhost:8080/"
    },
    "executionInfo": {
     "elapsed": 3,
     "status": "ok",
     "timestamp": 1717766623931,
     "user": {
      "displayName": "Rohnak Agarwal",
      "userId": "08631121490289882797"
     },
     "user_tz": -330
    },
    "id": "o3Aao5JF3fsQ",
    "outputId": "9abbd835-be5f-4e05-be2e-3ad4d2cdd0bd"
   },
   "outputs": [
    {
     "name": "stdout",
     "output_type": "stream",
     "text": [
      "torch.Size([2, 3])\n",
      "torch.Size([2])\n"
     ]
    }
   ],
   "source": [
    "print(A.shape, A.sum(axis=1).shape, sep=\"\\n\")"
   ]
  },
  {
   "cell_type": "code",
   "execution_count": 16,
   "metadata": {
    "colab": {
     "base_uri": "https://localhost:8080/"
    },
    "executionInfo": {
     "elapsed": 2,
     "status": "ok",
     "timestamp": 1717766644637,
     "user": {
      "displayName": "Rohnak Agarwal",
      "userId": "08631121490289882797"
     },
     "user_tz": -330
    },
    "id": "prtAYK1S3oVW",
    "outputId": "b185f040-69c6-4a2a-d611-6af12b029212"
   },
   "outputs": [
    {
     "data": {
      "text/plain": [
       "tensor(True)"
      ]
     },
     "execution_count": 16,
     "metadata": {},
     "output_type": "execute_result"
    }
   ],
   "source": [
    "A.sum(axis=[0, 1]) == A.sum()  # Same as A.sum()"
   ]
  },
  {
   "cell_type": "code",
   "execution_count": 17,
   "metadata": {
    "colab": {
     "base_uri": "https://localhost:8080/"
    },
    "executionInfo": {
     "elapsed": 2,
     "status": "ok",
     "timestamp": 1717766668686,
     "user": {
      "displayName": "Rohnak Agarwal",
      "userId": "08631121490289882797"
     },
     "user_tz": -330
    },
    "id": "O1PjTDcX3tVR",
    "outputId": "1e02081e-6078-49b4-90b9-f085a5b98988"
   },
   "outputs": [
    {
     "name": "stdout",
     "output_type": "stream",
     "text": [
      "tensor(2.5000)\n",
      "tensor(2.5000)\n"
     ]
    }
   ],
   "source": [
    "print(A.mean(), A.sum() / A.numel(), sep=\"\\n\")"
   ]
  },
  {
   "cell_type": "code",
   "execution_count": 18,
   "metadata": {
    "colab": {
     "base_uri": "https://localhost:8080/"
    },
    "executionInfo": {
     "elapsed": 2,
     "status": "ok",
     "timestamp": 1717766694878,
     "user": {
      "displayName": "Rohnak Agarwal",
      "userId": "08631121490289882797"
     },
     "user_tz": -330
    },
    "id": "exkTAip13xMA",
    "outputId": "43be7770-fb26-4254-9bc3-953ab68e4373"
   },
   "outputs": [
    {
     "name": "stdout",
     "output_type": "stream",
     "text": [
      "tensor([1.5000, 2.5000, 3.5000])\n",
      "tensor([1.5000, 2.5000, 3.5000])\n"
     ]
    }
   ],
   "source": [
    "print(A.mean(axis=0), A.sum(axis=0) / A.shape[0], sep=\"\\n\")"
   ]
  },
  {
   "cell_type": "code",
   "execution_count": 19,
   "metadata": {
    "colab": {
     "base_uri": "https://localhost:8080/"
    },
    "executionInfo": {
     "elapsed": 3,
     "status": "ok",
     "timestamp": 1717766713502,
     "user": {
      "displayName": "Rohnak Agarwal",
      "userId": "08631121490289882797"
     },
     "user_tz": -330
    },
    "id": "cB_KZj9u35Rl",
    "outputId": "ae2ce8d8-b66e-4df0-c154-86e05247dd89"
   },
   "outputs": [
    {
     "name": "stdout",
     "output_type": "stream",
     "text": [
      "tensor([[ 3.],\n",
      "        [12.]])\n",
      "torch.Size([2, 1])\n"
     ]
    }
   ],
   "source": [
    "sum_A = A.sum(axis=1, keepdims=True)\n",
    "print(sum_A, sum_A.shape, sep=\"\\n\")"
   ]
  },
  {
   "cell_type": "code",
   "execution_count": 20,
   "metadata": {
    "colab": {
     "base_uri": "https://localhost:8080/"
    },
    "executionInfo": {
     "elapsed": 3,
     "status": "ok",
     "timestamp": 1717767348769,
     "user": {
      "displayName": "Rohnak Agarwal",
      "userId": "08631121490289882797"
     },
     "user_tz": -330
    },
    "id": "MA7IBOW33-tK",
    "outputId": "e29882db-9bbf-43ce-eef1-b8df8d24859b"
   },
   "outputs": [
    {
     "data": {
      "text/plain": [
       "tensor([[0.0000, 0.3333, 0.6667],\n",
       "        [0.2500, 0.3333, 0.4167]])"
      ]
     },
     "execution_count": 20,
     "metadata": {},
     "output_type": "execute_result"
    }
   ],
   "source": [
    "A / sum_A"
   ]
  },
  {
   "cell_type": "code",
   "execution_count": 21,
   "metadata": {
    "colab": {
     "base_uri": "https://localhost:8080/"
    },
    "executionInfo": {
     "elapsed": 3,
     "status": "ok",
     "timestamp": 1717767362108,
     "user": {
      "displayName": "Rohnak Agarwal",
      "userId": "08631121490289882797"
     },
     "user_tz": -330
    },
    "id": "FQeQ1YI86ZxM",
    "outputId": "3a98fd3f-f942-4d89-c6a9-5927f3ea8cbe"
   },
   "outputs": [
    {
     "data": {
      "text/plain": [
       "tensor([[0., 1., 2.],\n",
       "        [3., 5., 7.]])"
      ]
     },
     "execution_count": 21,
     "metadata": {},
     "output_type": "execute_result"
    }
   ],
   "source": [
    "\"\"\"\n",
    "cumulative sum of elements of A along some axis, say axis=0 (row by row), we\n",
    "can call the cumsum function. By design, this function does not reduce the\n",
    "input tensor along any axis.\n",
    "\"\"\"\n",
    "\n",
    "A.cumsum(axis=0)"
   ]
  },
  {
   "cell_type": "markdown",
   "metadata": {
    "id": "R_uXYhRc6pqc"
   },
   "source": [
    "## Dot Product"
   ]
  },
  {
   "cell_type": "code",
   "execution_count": 22,
   "metadata": {
    "colab": {
     "base_uri": "https://localhost:8080/"
    },
    "executionInfo": {
     "elapsed": 3,
     "status": "ok",
     "timestamp": 1717767444358,
     "user": {
      "displayName": "Rohnak Agarwal",
      "userId": "08631121490289882797"
     },
     "user_tz": -330
    },
    "id": "EiKcmsHr6dLh",
    "outputId": "85f46518-09ef-48e1-c37f-a949b31048c9"
   },
   "outputs": [
    {
     "name": "stdout",
     "output_type": "stream",
     "text": [
      "tensor([0., 1., 2.])\n",
      "tensor([1., 1., 1.])\n",
      "tensor(3.)\n"
     ]
    }
   ],
   "source": [
    "y = torch.ones(3, dtype=torch.float32)\n",
    "print(x, y, torch.dot(x, y), sep=\"\\n\")"
   ]
  },
  {
   "cell_type": "code",
   "execution_count": 23,
   "metadata": {
    "colab": {
     "base_uri": "https://localhost:8080/"
    },
    "executionInfo": {
     "elapsed": 3,
     "status": "ok",
     "timestamp": 1717767469587,
     "user": {
      "displayName": "Rohnak Agarwal",
      "userId": "08631121490289882797"
     },
     "user_tz": -330
    },
    "id": "7PSRpIr16vAC",
    "outputId": "b69ef93e-ea1a-4d24-e598-e50f0c2525fd"
   },
   "outputs": [
    {
     "data": {
      "text/plain": [
       "tensor(3.)"
      ]
     },
     "execution_count": 23,
     "metadata": {},
     "output_type": "execute_result"
    }
   ],
   "source": [
    "torch.sum(x * y)"
   ]
  },
  {
   "cell_type": "markdown",
   "metadata": {
    "id": "THWL2v_q68_6"
   },
   "source": [
    "## Matrix-Vector Products"
   ]
  },
  {
   "cell_type": "code",
   "execution_count": 24,
   "metadata": {
    "colab": {
     "base_uri": "https://localhost:8080/"
    },
    "executionInfo": {
     "elapsed": 3,
     "status": "ok",
     "timestamp": 1717767511739,
     "user": {
      "displayName": "Rohnak Agarwal",
      "userId": "08631121490289882797"
     },
     "user_tz": -330
    },
    "id": "UMgYyGV463XL",
    "outputId": "a91f4151-451e-43b7-9a32-929456949ea2"
   },
   "outputs": [
    {
     "name": "stdout",
     "output_type": "stream",
     "text": [
      "torch.Size([2, 3])\n",
      "torch.Size([3])\n",
      "tensor([ 5., 14.])\n",
      "tensor([ 5., 14.])\n"
     ]
    }
   ],
   "source": [
    "print(A.shape, x.shape, torch.mv(A, x), A @ x, sep=\"\\n\")"
   ]
  },
  {
   "cell_type": "markdown",
   "metadata": {
    "id": "tAdPzjmn7EqI"
   },
   "source": [
    "## Matrix-Matrix Multiplication"
   ]
  },
  {
   "cell_type": "code",
   "execution_count": 25,
   "metadata": {
    "colab": {
     "base_uri": "https://localhost:8080/"
    },
    "executionInfo": {
     "elapsed": 2,
     "status": "ok",
     "timestamp": 1717767544703,
     "user": {
      "displayName": "Rohnak Agarwal",
      "userId": "08631121490289882797"
     },
     "user_tz": -330
    },
    "id": "jx12xcVq7Bo3",
    "outputId": "2f0bab47-8fbb-4b43-a868-ade62e2af12b"
   },
   "outputs": [
    {
     "name": "stdout",
     "output_type": "stream",
     "text": [
      "tensor([[ 3.,  3.,  3.,  3.],\n",
      "        [12., 12., 12., 12.]])\n",
      "tensor([[ 3.,  3.,  3.,  3.],\n",
      "        [12., 12., 12., 12.]])\n"
     ]
    }
   ],
   "source": [
    "B = torch.ones(3, 4)\n",
    "print(torch.mm(A, B), A @ B, sep=\"\\n\")"
   ]
  },
  {
   "cell_type": "markdown",
   "metadata": {
    "id": "u6ww2Cb77Ny_"
   },
   "source": [
    "## Norms"
   ]
  },
  {
   "cell_type": "code",
   "execution_count": 26,
   "metadata": {
    "colab": {
     "base_uri": "https://localhost:8080/"
    },
    "executionInfo": {
     "elapsed": 2,
     "status": "ok",
     "timestamp": 1717767574401,
     "user": {
      "displayName": "Rohnak Agarwal",
      "userId": "08631121490289882797"
     },
     "user_tz": -330
    },
    "id": "lk32t9ys7Jxv",
    "outputId": "7456eedd-619c-42d6-c511-2cb67466be10"
   },
   "outputs": [
    {
     "data": {
      "text/plain": [
       "tensor(5.)"
      ]
     },
     "execution_count": 26,
     "metadata": {},
     "output_type": "execute_result"
    }
   ],
   "source": [
    "u = torch.tensor([3.0, -4.0])\n",
    "torch.norm(u)  # l2 norm"
   ]
  },
  {
   "cell_type": "code",
   "execution_count": 27,
   "metadata": {
    "colab": {
     "base_uri": "https://localhost:8080/"
    },
    "executionInfo": {
     "elapsed": 3,
     "status": "ok",
     "timestamp": 1717767593487,
     "user": {
      "displayName": "Rohnak Agarwal",
      "userId": "08631121490289882797"
     },
     "user_tz": -330
    },
    "id": "y8BYSSUm7Q1I",
    "outputId": "4999a8c4-9188-47a0-d1ca-9ae0029a3099"
   },
   "outputs": [
    {
     "data": {
      "text/plain": [
       "tensor(7.)"
      ]
     },
     "execution_count": 27,
     "metadata": {},
     "output_type": "execute_result"
    }
   ],
   "source": [
    "torch.abs(u).sum()  # l1 norm"
   ]
  },
  {
   "cell_type": "code",
   "execution_count": 28,
   "metadata": {
    "colab": {
     "base_uri": "https://localhost:8080/"
    },
    "executionInfo": {
     "elapsed": 4,
     "status": "ok",
     "timestamp": 1717767680507,
     "user": {
      "displayName": "Rohnak Agarwal",
      "userId": "08631121490289882797"
     },
     "user_tz": -330
    },
    "id": "jxGADa4E7VmZ",
    "outputId": "c3b3ee11-1e6e-4c5b-d39e-c0cad24e0182"
   },
   "outputs": [
    {
     "data": {
      "text/plain": [
       "tensor(6.)"
      ]
     },
     "execution_count": 28,
     "metadata": {},
     "output_type": "execute_result"
    }
   ],
   "source": [
    "torch.norm(torch.ones((4, 9)))  # Frobenius norm"
   ]
  },
  {
   "cell_type": "code",
   "execution_count": null,
   "metadata": {
    "id": "go6HfJut7qx4"
   },
   "outputs": [],
   "source": []
  }
 ],
 "metadata": {
  "colab": {
   "authorship_tag": "ABX9TyNkRFxo7U2TjylJ+ynEaict",
   "collapsed_sections": [
    "H1FBdkAA034D",
    "SH43GsQj06sh"
   ],
   "provenance": []
  },
  "kernelspec": {
   "display_name": "Python 3",
   "name": "python3"
  },
  "language_info": {
   "codemirror_mode": {
    "name": "ipython",
    "version": 3
   },
   "file_extension": ".py",
   "mimetype": "text/x-python",
   "name": "python",
   "nbconvert_exporter": "python",
   "pygments_lexer": "ipython3",
   "version": "3.11.5"
  }
 },
 "nbformat": 4,
 "nbformat_minor": 0
}
